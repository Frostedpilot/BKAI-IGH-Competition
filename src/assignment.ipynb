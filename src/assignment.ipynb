{
 "cells": [
  {
   "cell_type": "code",
   "execution_count": 1,
   "id": "102d693f",
   "metadata": {
    "_cell_guid": "b1076dfc-b9ad-4769-8c92-a6c4dae69d19",
    "_uuid": "8f2839f25d086af736a60e9eeb907d3b93b6e0e5",
    "execution": {
     "iopub.execute_input": "2024-11-21T14:48:10.322913Z",
     "iopub.status.busy": "2024-11-21T14:48:10.322625Z",
     "iopub.status.idle": "2024-11-21T14:48:24.981035Z",
     "shell.execute_reply": "2024-11-21T14:48:24.980256Z"
    },
    "papermill": {
     "duration": 14.66896,
     "end_time": "2024-11-21T14:48:24.983145",
     "exception": false,
     "start_time": "2024-11-21T14:48:10.314185",
     "status": "completed"
    },
    "tags": []
   },
   "outputs": [
    {
     "name": "stderr",
     "output_type": "stream",
     "text": [
      "c:\\Users\\84359\\scoop\\apps\\python\\current\\Lib\\site-packages\\tqdm\\auto.py:21: TqdmWarning: IProgress not found. Please update jupyter and ipywidgets. See https://ipywidgets.readthedocs.io/en/stable/user_install.html\n",
      "  from .autonotebook import tqdm as notebook_tqdm\n"
     ]
    }
   ],
   "source": [
    "import os\n",
    "import pandas as pd\n",
    "import numpy as np\n",
    "import cv2\n",
    "from torchvision.io import read_image\n",
    "import matplotlib.pyplot as plt\n",
    "from torch.utils.data import Dataset, random_split, DataLoader\n",
    "import albumentations as A\n",
    "from albumentations.pytorch.transforms import ToTensorV2\n",
    "\n",
    "from torchvision.transforms import ToTensor\n",
    "from PIL import Image\n",
    "import os\n",
    "\n",
    "import torch\n",
    "import torch.nn as nn\n",
    "import torch.optim as optim\n",
    "import torchvision \n",
    "from torchvision import transforms\n",
    "from torchinfo import summary\n",
    "import timm\n",
    "import segmentation_models_pytorch as smp\n",
    "import wandb\n",
    "\n",
    "from torchgeometry.losses import DiceLoss"
   ]
  },
  {
   "cell_type": "code",
   "execution_count": 2,
   "id": "f028fba4",
   "metadata": {
    "execution": {
     "iopub.execute_input": "2024-11-21T14:48:24.997312Z",
     "iopub.status.busy": "2024-11-21T14:48:24.996999Z",
     "iopub.status.idle": "2024-11-21T14:48:26.071630Z",
     "shell.execute_reply": "2024-11-21T14:48:26.070513Z"
    },
    "papermill": {
     "duration": 1.083969,
     "end_time": "2024-11-21T14:48:26.073759",
     "exception": false,
     "start_time": "2024-11-21T14:48:24.989790",
     "status": "completed"
    },
    "tags": []
   },
   "outputs": [
    {
     "name": "stdout",
     "output_type": "stream",
     "text": [
      "GPU 0: NVIDIA GeForce RTX 3050 Ti Laptop GPU (UUID: GPU-922977af-d68d-ebac-3c8f-b0b483c19424)\n"
     ]
    }
   ],
   "source": [
    "!nvidia-smi -L"
   ]
  },
  {
   "cell_type": "code",
   "execution_count": 3,
   "id": "43ae596a",
   "metadata": {
    "execution": {
     "iopub.execute_input": "2024-11-21T14:48:26.087763Z",
     "iopub.status.busy": "2024-11-21T14:48:26.087372Z",
     "iopub.status.idle": "2024-11-21T14:48:26.192521Z",
     "shell.execute_reply": "2024-11-21T14:48:26.191635Z"
    },
    "papermill": {
     "duration": 0.1146,
     "end_time": "2024-11-21T14:48:26.194633",
     "exception": false,
     "start_time": "2024-11-21T14:48:26.080033",
     "status": "completed"
    },
    "tags": []
   },
   "outputs": [
    {
     "data": {
      "text/plain": [
       "device(type='cuda')"
      ]
     },
     "execution_count": 3,
     "metadata": {},
     "output_type": "execute_result"
    }
   ],
   "source": [
    "device = torch.device(\"cuda\" if torch.cuda.is_available() else \"cpu\")\n",
    "device"
   ]
  },
  {
   "cell_type": "code",
   "execution_count": 4,
   "id": "ed556a2c",
   "metadata": {
    "execution": {
     "iopub.execute_input": "2024-11-21T14:48:26.215603Z",
     "iopub.status.busy": "2024-11-21T14:48:26.214744Z",
     "iopub.status.idle": "2024-11-21T14:48:26.226260Z",
     "shell.execute_reply": "2024-11-21T14:48:26.225444Z"
    },
    "papermill": {
     "duration": 0.022382,
     "end_time": "2024-11-21T14:48:26.228335",
     "exception": false,
     "start_time": "2024-11-21T14:48:26.205953",
     "status": "completed"
    },
    "tags": []
   },
   "outputs": [],
   "source": [
    "class DatasetCustom(Dataset):\n",
    "    def __init__(self, img_dir, label_dir, resize=None, transform=None):\n",
    "        self.img_dir = img_dir\n",
    "        self.label_dir = label_dir\n",
    "        self.resize = resize\n",
    "        self.transform = transform\n",
    "        self.images = os.listdir(self.img_dir)\n",
    "\n",
    "    def __len__(self):\n",
    "        return len(self.images)\n",
    "    \n",
    "    def read_mask(self, mask_path):\n",
    "        image = cv2.imread(mask_path)\n",
    "        if self.resize:\n",
    "            image = cv2.resize(image, self.resize)\n",
    "        image = cv2.cvtColor(image, cv2.COLOR_BGR2HSV)\n",
    "\n",
    "        lower_red1 = np.array([0, 100, 20])\n",
    "        upper_red1 = np.array([10, 255, 255])\n",
    "        lower_red2 = np.array([160,100,20])\n",
    "        upper_red2 = np.array([179,255,255])\n",
    "        \n",
    "        lower_mask_red = cv2.inRange(image, lower_red1, upper_red1)\n",
    "        upper_mask_red = cv2.inRange(image, lower_red2, upper_red2)\n",
    "        \n",
    "        red_mask = lower_mask_red + upper_mask_red\n",
    "        red_mask[red_mask != 0] = 1\n",
    "\n",
    "        green_mask = cv2.inRange(image, (36, 25, 25), (70, 255, 255))\n",
    "        green_mask[green_mask != 0] = 2\n",
    "\n",
    "        full_mask = cv2.bitwise_or(red_mask, green_mask)\n",
    "        full_mask = np.expand_dims(full_mask, axis=-1) \n",
    "        full_mask = full_mask.astype(np.uint8)\n",
    "        \n",
    "        return full_mask\n",
    "\n",
    "    def __getitem__(self, idx):\n",
    "        img_path = os.path.join(self.img_dir, self.images[idx])\n",
    "        label_path = os.path.join(self.label_dir, self.images[idx])\n",
    "        image = cv2.imread(img_path)  #  BGR\n",
    "        image = cv2.cvtColor(image, cv2.COLOR_BGR2RGB) # Convert to RGB\n",
    "        label = self.read_mask(label_path)  \n",
    "        image = cv2.resize(image, self.resize)\n",
    "        if self.transform:\n",
    "            image = self.transform(image)\n",
    "            \n",
    "        return image, label"
   ]
  },
  {
   "cell_type": "code",
   "execution_count": 5,
   "id": "532f6268",
   "metadata": {
    "execution": {
     "iopub.execute_input": "2024-11-21T14:48:26.247981Z",
     "iopub.status.busy": "2024-11-21T14:48:26.247389Z",
     "iopub.status.idle": "2024-11-21T14:48:27.030075Z",
     "shell.execute_reply": "2024-11-21T14:48:27.029105Z"
    },
    "papermill": {
     "duration": 0.793128,
     "end_time": "2024-11-21T14:48:27.032228",
     "exception": false,
     "start_time": "2024-11-21T14:48:26.239100",
     "status": "completed"
    },
    "tags": []
   },
   "outputs": [
    {
     "data": {
      "text/plain": [
       "1000"
      ]
     },
     "execution_count": 5,
     "metadata": {},
     "output_type": "execute_result"
    }
   ],
   "source": [
    "images_path = \"../data/train/train/\"\n",
    "image_path = []\n",
    "TRAIN_DIR = '../data/train/train'\n",
    "for root, dirs, files in os.walk(TRAIN_DIR):\n",
    "    for file in files:\n",
    "        path = os.path.join(root,file)\n",
    "        image_path.append(path)\n",
    "        \n",
    "len(image_path)"
   ]
  },
  {
   "cell_type": "code",
   "execution_count": 6,
   "id": "ec5949dc",
   "metadata": {
    "execution": {
     "iopub.execute_input": "2024-11-21T14:48:27.046941Z",
     "iopub.status.busy": "2024-11-21T14:48:27.046570Z",
     "iopub.status.idle": "2024-11-21T14:48:27.818524Z",
     "shell.execute_reply": "2024-11-21T14:48:27.817619Z"
    },
    "papermill": {
     "duration": 0.781295,
     "end_time": "2024-11-21T14:48:27.820313",
     "exception": false,
     "start_time": "2024-11-21T14:48:27.039018",
     "status": "completed"
    },
    "tags": []
   },
   "outputs": [
    {
     "data": {
      "text/plain": [
       "1000"
      ]
     },
     "execution_count": 6,
     "metadata": {},
     "output_type": "execute_result"
    }
   ],
   "source": [
    "mask_path = []\n",
    "TRAIN_MASK_DIR = '../data/train_gt/train_gt'\n",
    "for root, dirs, files in os.walk(TRAIN_MASK_DIR):\n",
    "    for file in files:\n",
    "        path = os.path.join(root,file)\n",
    "        mask_path.append(path)\n",
    "        \n",
    "len(mask_path)"
   ]
  },
  {
   "cell_type": "code",
   "execution_count": 7,
   "id": "17c7feed",
   "metadata": {
    "execution": {
     "iopub.execute_input": "2024-11-21T14:48:27.834136Z",
     "iopub.status.busy": "2024-11-21T14:48:27.833860Z",
     "iopub.status.idle": "2024-11-21T14:48:27.838613Z",
     "shell.execute_reply": "2024-11-21T14:48:27.837982Z"
    },
    "papermill": {
     "duration": 0.01341,
     "end_time": "2024-11-21T14:48:27.840232",
     "exception": false,
     "start_time": "2024-11-21T14:48:27.826822",
     "status": "completed"
    },
    "tags": []
   },
   "outputs": [],
   "source": [
    "dataset = DatasetCustom(img_dir= TRAIN_DIR,\n",
    "                             label_dir= TRAIN_MASK_DIR,\n",
    "                             resize= (256,256),\n",
    "                             transform = None)"
   ]
  },
  {
   "cell_type": "code",
   "execution_count": 8,
   "id": "efe59f1b",
   "metadata": {
    "execution": {
     "iopub.execute_input": "2024-11-21T14:48:27.853616Z",
     "iopub.status.busy": "2024-11-21T14:48:27.853360Z",
     "iopub.status.idle": "2024-11-21T14:49:03.821765Z",
     "shell.execute_reply": "2024-11-21T14:49:03.820718Z"
    },
    "papermill": {
     "duration": 35.977568,
     "end_time": "2024-11-21T14:49:03.824031",
     "exception": false,
     "start_time": "2024-11-21T14:48:27.846463",
     "status": "completed"
    },
    "tags": []
   },
   "outputs": [],
   "source": [
    "batch_size = 8\n",
    "images_data = []\n",
    "labels_data = []\n",
    "for x,y in dataset:\n",
    "    images_data.append(x)\n",
    "    labels_data.append(y)"
   ]
  },
  {
   "cell_type": "code",
   "execution_count": 9,
   "id": "617110c5",
   "metadata": {
    "execution": {
     "iopub.execute_input": "2024-11-21T14:49:03.839032Z",
     "iopub.status.busy": "2024-11-21T14:49:03.838740Z",
     "iopub.status.idle": "2024-11-21T14:49:04.966965Z",
     "shell.execute_reply": "2024-11-21T14:49:04.966219Z"
    },
    "papermill": {
     "duration": 1.137847,
     "end_time": "2024-11-21T14:49:04.968937",
     "exception": false,
     "start_time": "2024-11-21T14:49:03.831090",
     "status": "completed"
    },
    "tags": []
   },
   "outputs": [],
   "source": [
    "import segmentation_models_pytorch as smp\n",
    "\n",
    "model = smp.Unet(\n",
    "    encoder_name=\"resnet34\",        \n",
    "    encoder_weights=\"imagenet\",     \n",
    "    in_channels=3,                  \n",
    "    classes=3     \n",
    ")"
   ]
  },
  {
   "cell_type": "code",
   "execution_count": 10,
   "id": "79de15cb",
   "metadata": {
    "execution": {
     "iopub.execute_input": "2024-11-21T14:49:04.984191Z",
     "iopub.status.busy": "2024-11-21T14:49:04.983852Z",
     "iopub.status.idle": "2024-11-21T14:49:04.990562Z",
     "shell.execute_reply": "2024-11-21T14:49:04.989843Z"
    },
    "papermill": {
     "duration": 0.016002,
     "end_time": "2024-11-21T14:49:04.992091",
     "exception": false,
     "start_time": "2024-11-21T14:49:04.976089",
     "status": "completed"
    },
    "tags": []
   },
   "outputs": [],
   "source": [
    "class CustomDataset(Dataset):\n",
    "    def __init__(self, data, targets, transform=None):\n",
    "        self.data = data\n",
    "        self.targets = targets\n",
    "        self.transform = transform\n",
    "\n",
    "    def __getitem__(self, index):\n",
    "        image = self.data[index]\n",
    "        label = self.targets[index]\n",
    "        assert image.shape[:2] == label.shape[:2]\n",
    "        if self.transform:\n",
    "            transformed = self.transform(image=image, mask=label)\n",
    "            image = transformed['image'].float()\n",
    "            label = transformed['mask'].float()\n",
    "            label = label.permute(2, 0, 1)\n",
    "        return image, label\n",
    "    \n",
    "    def __len__(self):\n",
    "        return len(self.data)"
   ]
  },
  {
   "cell_type": "code",
   "execution_count": 11,
   "id": "7503e9b2",
   "metadata": {
    "execution": {
     "iopub.execute_input": "2024-11-21T14:49:05.006698Z",
     "iopub.status.busy": "2024-11-21T14:49:05.006429Z",
     "iopub.status.idle": "2024-11-21T14:49:05.016245Z",
     "shell.execute_reply": "2024-11-21T14:49:05.015454Z"
    },
    "papermill": {
     "duration": 0.019098,
     "end_time": "2024-11-21T14:49:05.018069",
     "exception": false,
     "start_time": "2024-11-21T14:49:04.998971",
     "status": "completed"
    },
    "tags": []
   },
   "outputs": [
    {
     "name": "stderr",
     "output_type": "stream",
     "text": [
      "C:\\Users\\84359\\AppData\\Local\\Temp\\ipykernel_3964\\1864594695.py:6: UserWarning: Argument 'eps' is not valid and will be ignored.\n",
      "  A.RandomGamma(gamma_limit=(70, 130), eps=None, always_apply=False, p=0.2),\n"
     ]
    }
   ],
   "source": [
    "train_transformation = A.Compose([\n",
    "    A.HorizontalFlip(p=0.5),\n",
    "    A.VerticalFlip(p=0.5),\n",
    "    A.RandomRotate90(p=0.5),\n",
    "    A.RandomCrop(height=256, width=256, p=0.5),\n",
    "    A.RandomGamma(gamma_limit=(70, 130), eps=None, always_apply=False, p=0.2),\n",
    "    A.RGBShift(p=0.3, r_shift_limit=10, g_shift_limit=10, b_shift_limit=10),\n",
    "    A.Normalize(mean=(0.485, 0.456, 0.406), std=(0.229, 0.224, 0.225)),\n",
    "    ToTensorV2(),\n",
    "])\n",
    "\n",
    "val_transformation = A.Compose([\n",
    "    A.Normalize(mean=(0.485, 0.456, 0.406),std=(0.229, 0.224, 0.225)),\n",
    "    ToTensorV2(),\n",
    "])"
   ]
  },
  {
   "cell_type": "code",
   "execution_count": 12,
   "id": "1869728c",
   "metadata": {
    "execution": {
     "iopub.execute_input": "2024-11-21T14:49:05.032539Z",
     "iopub.status.busy": "2024-11-21T14:49:05.032245Z",
     "iopub.status.idle": "2024-11-21T14:49:05.037445Z",
     "shell.execute_reply": "2024-11-21T14:49:05.036602Z"
    },
    "papermill": {
     "duration": 0.014422,
     "end_time": "2024-11-21T14:49:05.039031",
     "exception": false,
     "start_time": "2024-11-21T14:49:05.024609",
     "status": "completed"
    },
    "tags": []
   },
   "outputs": [],
   "source": [
    "train_size = int(0.8 * len(images_data))\n",
    "val_size = len(images_data) - train_size\n",
    "train_dataset = CustomDataset(images_data[:train_size], labels_data[:train_size], transform=train_transformation)\n",
    "val_dataset = CustomDataset(images_data[train_size:], labels_data[train_size:], transform=val_transformation)\n",
    "\n",
    "train_loader = DataLoader(train_dataset, batch_size=batch_size, shuffle=True)\n",
    "val_loader = DataLoader(val_dataset, batch_size=batch_size, shuffle=True)"
   ]
  },
  {
   "cell_type": "code",
   "execution_count": 13,
   "id": "f4d14f4e",
   "metadata": {
    "execution": {
     "iopub.execute_input": "2024-11-21T14:49:05.053035Z",
     "iopub.status.busy": "2024-11-21T14:49:05.052796Z",
     "iopub.status.idle": "2024-11-21T14:49:05.057661Z",
     "shell.execute_reply": "2024-11-21T14:49:05.057009Z"
    },
    "papermill": {
     "duration": 0.013707,
     "end_time": "2024-11-21T14:49:05.059246",
     "exception": false,
     "start_time": "2024-11-21T14:49:05.045539",
     "status": "completed"
    },
    "tags": []
   },
   "outputs": [],
   "source": [
    "learning_rate = 0.0001\n",
    "optimizer = optim.Adam(model.parameters(), lr=learning_rate)"
   ]
  },
  {
   "cell_type": "code",
   "execution_count": 14,
   "id": "4138b66c",
   "metadata": {
    "execution": {
     "iopub.execute_input": "2024-11-21T14:49:05.073422Z",
     "iopub.status.busy": "2024-11-21T14:49:05.073154Z",
     "iopub.status.idle": "2024-11-21T14:49:05.077488Z",
     "shell.execute_reply": "2024-11-21T14:49:05.076697Z"
    },
    "papermill": {
     "duration": 0.013247,
     "end_time": "2024-11-21T14:49:05.079105",
     "exception": false,
     "start_time": "2024-11-21T14:49:05.065858",
     "status": "completed"
    },
    "tags": []
   },
   "outputs": [],
   "source": [
    "color_dict= {0: (0, 0, 0),\n",
    "             1: (255, 0, 0),\n",
    "             2: (0, 255, 0)}\n",
    "def mask_to_rgb(mask, color_dict):\n",
    "    output = np.zeros((mask.shape[0], mask.shape[1], 3))\n",
    "\n",
    "    for k in color_dict.keys():\n",
    "        output[mask==k] = color_dict[k]\n",
    "\n",
    "    return np.uint8(output)    "
   ]
  },
  {
   "cell_type": "code",
   "execution_count": 15,
   "id": "baab4ed9",
   "metadata": {
    "execution": {
     "iopub.execute_input": "2024-11-21T14:49:05.092828Z",
     "iopub.status.busy": "2024-11-21T14:49:05.092594Z",
     "iopub.status.idle": "2024-11-21T14:49:09.188674Z",
     "shell.execute_reply": "2024-11-21T14:49:09.187827Z"
    },
    "papermill": {
     "duration": 4.105055,
     "end_time": "2024-11-21T14:49:09.190566",
     "exception": false,
     "start_time": "2024-11-21T14:49:05.085511",
     "status": "completed"
    },
    "tags": []
   },
   "outputs": [
    {
     "name": "stderr",
     "output_type": "stream",
     "text": [
      "\u001b[34m\u001b[1mwandb\u001b[0m: Using wandb-core as the SDK backend. Please refer to https://wandb.me/wandb-core for more information.\n",
      "\u001b[34m\u001b[1mwandb\u001b[0m: Currently logged in as: \u001b[33mtuantruongvu\u001b[0m (\u001b[33mtuantruongvu-hanoi-university-of-science-and-technology\u001b[0m). Use \u001b[1m`wandb login --relogin`\u001b[0m to force relogin\n"
     ]
    },
    {
     "data": {
      "text/html": [
       "Tracking run with wandb version 0.18.5"
      ],
      "text/plain": [
       "<IPython.core.display.HTML object>"
      ]
     },
     "metadata": {},
     "output_type": "display_data"
    },
    {
     "data": {
      "text/html": [
       "Run data is saved locally in <code>c:\\python\\personal\\BKAI-IGH-Competition\\src\\wandb\\run-20241122_102629-12lmhapy</code>"
      ],
      "text/plain": [
       "<IPython.core.display.HTML object>"
      ]
     },
     "metadata": {},
     "output_type": "display_data"
    },
    {
     "data": {
      "text/html": [
       "Syncing run <strong><a href='https://wandb.ai/tuantruongvu-hanoi-university-of-science-and-technology/DlPolypSegment/runs/12lmhapy' target=\"_blank\">faithful-sponge-6</a></strong> to <a href='https://wandb.ai/tuantruongvu-hanoi-university-of-science-and-technology/DlPolypSegment' target=\"_blank\">Weights & Biases</a> (<a href='https://wandb.me/run' target=\"_blank\">docs</a>)<br/>"
      ],
      "text/plain": [
       "<IPython.core.display.HTML object>"
      ]
     },
     "metadata": {},
     "output_type": "display_data"
    },
    {
     "data": {
      "text/html": [
       " View project at <a href='https://wandb.ai/tuantruongvu-hanoi-university-of-science-and-technology/DlPolypSegment' target=\"_blank\">https://wandb.ai/tuantruongvu-hanoi-university-of-science-and-technology/DlPolypSegment</a>"
      ],
      "text/plain": [
       "<IPython.core.display.HTML object>"
      ]
     },
     "metadata": {},
     "output_type": "display_data"
    },
    {
     "data": {
      "text/html": [
       " View run at <a href='https://wandb.ai/tuantruongvu-hanoi-university-of-science-and-technology/DlPolypSegment/runs/12lmhapy' target=\"_blank\">https://wandb.ai/tuantruongvu-hanoi-university-of-science-and-technology/DlPolypSegment/runs/12lmhapy</a>"
      ],
      "text/plain": [
       "<IPython.core.display.HTML object>"
      ]
     },
     "metadata": {},
     "output_type": "display_data"
    },
    {
     "data": {
      "text/html": [
       "<button onClick=\"this.nextSibling.style.display='block';this.style.display='none';\">Display W&B run</button><iframe src='https://wandb.ai/tuantruongvu-hanoi-university-of-science-and-technology/DlPolypSegment/runs/12lmhapy?jupyter=true' style='border:none;width:100%;height:420px;display:none;'></iframe>"
      ],
      "text/plain": [
       "<wandb.sdk.wandb_run.Run at 0x1f1eec93050>"
      ]
     },
     "execution_count": 15,
     "metadata": {},
     "output_type": "execute_result"
    }
   ],
   "source": [
    "wandb.init(\n",
    "    project = \"DlPolypSegment\"\n",
    ")"
   ]
  },
  {
   "cell_type": "code",
   "execution_count": 16,
   "id": "7adf0c98",
   "metadata": {
    "execution": {
     "iopub.execute_input": "2024-11-21T14:49:17.426886Z",
     "iopub.status.busy": "2024-11-21T14:49:17.426581Z",
     "iopub.status.idle": "2024-11-21T15:13:23.049958Z",
     "shell.execute_reply": "2024-11-21T15:13:23.048958Z"
    },
    "papermill": {
     "duration": 1445.651811,
     "end_time": "2024-11-21T15:13:23.069963",
     "exception": false,
     "start_time": "2024-11-21T14:49:17.418152",
     "status": "completed"
    },
    "tags": []
   },
   "outputs": [
    {
     "name": "stderr",
     "output_type": "stream",
     "text": [
      "Total Progress:   0%|          | 0/100 [00:00<?, ?it/s]"
     ]
    },
    {
     "name": "stdout",
     "output_type": "stream",
     "text": [
      "Epoch [1/100], Train Loss: 1.3581176269 , Val Loss: 0.8742238283\n"
     ]
    },
    {
     "name": "stderr",
     "output_type": "stream",
     "text": [
      "Total Progress:   1%|          | 1/100 [00:16<27:31, 16.68s/it]"
     ]
    },
    {
     "name": "stdout",
     "output_type": "stream",
     "text": [
      "Epoch [2/100], Train Loss: 0.6321579900 , Val Loss: 0.4459774792\n"
     ]
    },
    {
     "name": "stderr",
     "output_type": "stream",
     "text": [
      "Total Progress:   2%|▏         | 2/100 [00:31<25:46, 15.78s/it]"
     ]
    },
    {
     "name": "stdout",
     "output_type": "stream",
     "text": [
      "Epoch [3/100], Train Loss: 0.3531374276 , Val Loss: 0.2740578055\n"
     ]
    },
    {
     "name": "stderr",
     "output_type": "stream",
     "text": [
      "Total Progress:   3%|▎         | 3/100 [00:47<25:09, 15.57s/it]"
     ]
    },
    {
     "name": "stdout",
     "output_type": "stream",
     "text": [
      "Epoch [4/100], Train Loss: 0.2303303611 , Val Loss: 0.1892667562\n"
     ]
    },
    {
     "name": "stderr",
     "output_type": "stream",
     "text": [
      "Total Progress:   4%|▍         | 4/100 [01:03<25:10, 15.74s/it]"
     ]
    },
    {
     "name": "stdout",
     "output_type": "stream",
     "text": [
      "Epoch [5/100], Train Loss: 0.1680121727 , Val Loss: 0.1491367072\n"
     ]
    },
    {
     "name": "stderr",
     "output_type": "stream",
     "text": [
      "Total Progress:   5%|▌         | 5/100 [01:18<24:52, 15.71s/it]"
     ]
    },
    {
     "name": "stdout",
     "output_type": "stream",
     "text": [
      "Epoch [6/100], Train Loss: 0.1342470510 , Val Loss: 0.1246974170\n"
     ]
    },
    {
     "name": "stderr",
     "output_type": "stream",
     "text": [
      "Total Progress:   6%|▌         | 6/100 [01:33<24:20, 15.53s/it]"
     ]
    },
    {
     "name": "stdout",
     "output_type": "stream",
     "text": [
      "Epoch [7/100], Train Loss: 0.1105819168 , Val Loss: 0.1101419032\n"
     ]
    },
    {
     "name": "stderr",
     "output_type": "stream",
     "text": [
      "Total Progress:   8%|▊         | 8/100 [02:04<23:24, 15.27s/it]"
     ]
    },
    {
     "name": "stdout",
     "output_type": "stream",
     "text": [
      "Epoch [8/100], Train Loss: 0.0959133750 , Val Loss: 0.1123297513\n",
      "Epoch [9/100], Train Loss: 0.0906370817 , Val Loss: 0.0930941924\n"
     ]
    },
    {
     "name": "stderr",
     "output_type": "stream",
     "text": [
      "Total Progress:  10%|█         | 10/100 [02:35<22:55, 15.28s/it]"
     ]
    },
    {
     "name": "stdout",
     "output_type": "stream",
     "text": [
      "Epoch [10/100], Train Loss: 0.0830211243 , Val Loss: 0.0978180319\n"
     ]
    },
    {
     "name": "stderr",
     "output_type": "stream",
     "text": [
      "Total Progress:  11%|█         | 11/100 [02:49<22:26, 15.13s/it]"
     ]
    },
    {
     "name": "stdout",
     "output_type": "stream",
     "text": [
      "Epoch [11/100], Train Loss: 0.0804234630 , Val Loss: 0.0989124626\n",
      "Epoch [12/100], Train Loss: 0.0806460091 , Val Loss: 0.0870253742\n"
     ]
    },
    {
     "name": "stderr",
     "output_type": "stream",
     "text": [
      "Total Progress:  12%|█▏        | 12/100 [03:04<22:12, 15.14s/it]"
     ]
    },
    {
     "name": "stdout",
     "output_type": "stream",
     "text": [
      "Epoch [13/100], Train Loss: 0.0716272062 , Val Loss: 0.0856924057\n"
     ]
    },
    {
     "name": "stderr",
     "output_type": "stream",
     "text": [
      "Total Progress:  13%|█▎        | 13/100 [03:20<21:57, 15.14s/it]"
     ]
    },
    {
     "name": "stdout",
     "output_type": "stream",
     "text": [
      "Epoch [14/100], Train Loss: 0.0663383986 , Val Loss: 0.0823409557\n"
     ]
    },
    {
     "name": "stderr",
     "output_type": "stream",
     "text": [
      "Total Progress:  15%|█▌        | 15/100 [03:50<21:22, 15.09s/it]"
     ]
    },
    {
     "name": "stdout",
     "output_type": "stream",
     "text": [
      "Epoch [15/100], Train Loss: 0.0611123418 , Val Loss: 0.0826050565\n",
      "Epoch [16/100], Train Loss: 0.0609049870 , Val Loss: 0.0793058798\n"
     ]
    },
    {
     "name": "stderr",
     "output_type": "stream",
     "text": [
      "Total Progress:  16%|█▌        | 16/100 [04:06<21:24, 15.29s/it]"
     ]
    },
    {
     "name": "stdout",
     "output_type": "stream",
     "text": [
      "Epoch [17/100], Train Loss: 0.0556600227 , Val Loss: 0.0701037794\n"
     ]
    },
    {
     "name": "stderr",
     "output_type": "stream",
     "text": [
      "Total Progress:  18%|█▊        | 18/100 [04:36<20:51, 15.26s/it]"
     ]
    },
    {
     "name": "stdout",
     "output_type": "stream",
     "text": [
      "Epoch [18/100], Train Loss: 0.0509163867 , Val Loss: 0.0719923079\n"
     ]
    },
    {
     "name": "stderr",
     "output_type": "stream",
     "text": [
      "Total Progress:  19%|█▉        | 19/100 [04:51<20:25, 15.13s/it]"
     ]
    },
    {
     "name": "stdout",
     "output_type": "stream",
     "text": [
      "Epoch [19/100], Train Loss: 0.0527880571 , Val Loss: 0.0703394935\n",
      "Epoch [20/100], Train Loss: 0.0463762946 , Val Loss: 0.0686662793\n"
     ]
    },
    {
     "name": "stderr",
     "output_type": "stream",
     "text": [
      "Total Progress:  21%|██        | 21/100 [05:21<19:50, 15.07s/it]"
     ]
    },
    {
     "name": "stdout",
     "output_type": "stream",
     "text": [
      "Epoch [21/100], Train Loss: 0.0496830301 , Val Loss: 0.0715233013\n"
     ]
    },
    {
     "name": "stderr",
     "output_type": "stream",
     "text": [
      "Total Progress:  22%|██▏       | 22/100 [05:36<19:29, 15.00s/it]"
     ]
    },
    {
     "name": "stdout",
     "output_type": "stream",
     "text": [
      "Epoch [22/100], Train Loss: 0.0493793577 , Val Loss: 0.0767694935\n",
      "Epoch [23/100], Train Loss: 0.0497017920 , Val Loss: 0.0615422651\n"
     ]
    },
    {
     "name": "stderr",
     "output_type": "stream",
     "text": [
      "Total Progress:  24%|██▍       | 24/100 [06:06<19:05, 15.07s/it]"
     ]
    },
    {
     "name": "stdout",
     "output_type": "stream",
     "text": [
      "Epoch [24/100], Train Loss: 0.0398084719 , Val Loss: 0.0661726296\n"
     ]
    },
    {
     "name": "stderr",
     "output_type": "stream",
     "text": [
      "Total Progress:  25%|██▌       | 25/100 [06:21<18:44, 15.00s/it]"
     ]
    },
    {
     "name": "stdout",
     "output_type": "stream",
     "text": [
      "Epoch [25/100], Train Loss: 0.0382015822 , Val Loss: 0.0656309351\n"
     ]
    },
    {
     "name": "stderr",
     "output_type": "stream",
     "text": [
      "Total Progress:  26%|██▌       | 26/100 [06:36<18:25, 14.93s/it]"
     ]
    },
    {
     "name": "stdout",
     "output_type": "stream",
     "text": [
      "Epoch [26/100], Train Loss: 0.0368485443 , Val Loss: 0.0660573766\n"
     ]
    },
    {
     "name": "stderr",
     "output_type": "stream",
     "text": [
      "Total Progress:  27%|██▋       | 27/100 [06:51<18:07, 14.90s/it]"
     ]
    },
    {
     "name": "stdout",
     "output_type": "stream",
     "text": [
      "Epoch [27/100], Train Loss: 0.0437414907 , Val Loss: 0.0634634793\n"
     ]
    },
    {
     "name": "stderr",
     "output_type": "stream",
     "text": [
      "Total Progress:  28%|██▊       | 28/100 [07:06<17:52, 14.89s/it]"
     ]
    },
    {
     "name": "stdout",
     "output_type": "stream",
     "text": [
      "Epoch [28/100], Train Loss: 0.0405702850 , Val Loss: 0.0654426217\n"
     ]
    },
    {
     "name": "stderr",
     "output_type": "stream",
     "text": [
      "Total Progress:  29%|██▉       | 29/100 [07:21<17:36, 14.88s/it]"
     ]
    },
    {
     "name": "stdout",
     "output_type": "stream",
     "text": [
      "Epoch [29/100], Train Loss: 0.0392179883 , Val Loss: 0.0643109754\n"
     ]
    },
    {
     "name": "stderr",
     "output_type": "stream",
     "text": [
      "Total Progress:  30%|███       | 30/100 [07:35<17:20, 14.87s/it]"
     ]
    },
    {
     "name": "stdout",
     "output_type": "stream",
     "text": [
      "Epoch [30/100], Train Loss: 0.0382050926 , Val Loss: 0.0672450066\n",
      "Epoch [31/100], Train Loss: 0.0369159583 , Val Loss: 0.0582945198\n"
     ]
    },
    {
     "name": "stderr",
     "output_type": "stream",
     "text": [
      "Total Progress:  32%|███▏      | 32/100 [08:06<17:07, 15.11s/it]"
     ]
    },
    {
     "name": "stdout",
     "output_type": "stream",
     "text": [
      "Epoch [32/100], Train Loss: 0.0299511776 , Val Loss: 0.0610341765\n"
     ]
    },
    {
     "name": "stderr",
     "output_type": "stream",
     "text": [
      "Total Progress:  33%|███▎      | 33/100 [08:21<16:48, 15.06s/it]"
     ]
    },
    {
     "name": "stdout",
     "output_type": "stream",
     "text": [
      "Epoch [33/100], Train Loss: 0.0315319639 , Val Loss: 0.0587797426\n"
     ]
    },
    {
     "name": "stderr",
     "output_type": "stream",
     "text": [
      "Total Progress:  34%|███▍      | 34/100 [08:36<16:30, 15.00s/it]"
     ]
    },
    {
     "name": "stdout",
     "output_type": "stream",
     "text": [
      "Epoch [34/100], Train Loss: 0.0292355368 , Val Loss: 0.0607857816\n"
     ]
    },
    {
     "name": "stderr",
     "output_type": "stream",
     "text": [
      "Total Progress:  35%|███▌      | 35/100 [08:51<16:12, 14.96s/it]"
     ]
    },
    {
     "name": "stdout",
     "output_type": "stream",
     "text": [
      "Epoch [35/100], Train Loss: 0.0310535219 , Val Loss: 0.0667238533\n"
     ]
    },
    {
     "name": "stderr",
     "output_type": "stream",
     "text": [
      "Total Progress:  36%|███▌      | 36/100 [09:06<15:56, 14.95s/it]"
     ]
    },
    {
     "name": "stdout",
     "output_type": "stream",
     "text": [
      "Epoch [36/100], Train Loss: 0.0307912674 , Val Loss: 0.0667355359\n"
     ]
    },
    {
     "name": "stderr",
     "output_type": "stream",
     "text": [
      "Total Progress:  37%|███▋      | 37/100 [09:21<15:40, 14.94s/it]"
     ]
    },
    {
     "name": "stdout",
     "output_type": "stream",
     "text": [
      "Epoch [37/100], Train Loss: 0.0390232862 , Val Loss: 0.0744055510\n"
     ]
    },
    {
     "name": "stderr",
     "output_type": "stream",
     "text": [
      "Total Progress:  38%|███▊      | 38/100 [09:36<15:26, 14.94s/it]"
     ]
    },
    {
     "name": "stdout",
     "output_type": "stream",
     "text": [
      "Epoch [38/100], Train Loss: 0.0452097284 , Val Loss: 0.0873742253\n"
     ]
    },
    {
     "name": "stderr",
     "output_type": "stream",
     "text": [
      "Total Progress:  39%|███▉      | 39/100 [09:51<15:10, 14.93s/it]"
     ]
    },
    {
     "name": "stdout",
     "output_type": "stream",
     "text": [
      "Epoch [39/100], Train Loss: 0.0425047737 , Val Loss: 0.0905403197\n"
     ]
    },
    {
     "name": "stderr",
     "output_type": "stream",
     "text": [
      "Total Progress:  40%|████      | 40/100 [10:05<14:54, 14.91s/it]"
     ]
    },
    {
     "name": "stdout",
     "output_type": "stream",
     "text": [
      "Epoch [40/100], Train Loss: 0.0324445698 , Val Loss: 0.0692761838\n"
     ]
    },
    {
     "name": "stderr",
     "output_type": "stream",
     "text": [
      "Total Progress:  41%|████      | 41/100 [10:20<14:38, 14.90s/it]"
     ]
    },
    {
     "name": "stdout",
     "output_type": "stream",
     "text": [
      "Epoch [41/100], Train Loss: 0.0347634821 , Val Loss: 0.0723378137\n"
     ]
    },
    {
     "name": "stderr",
     "output_type": "stream",
     "text": [
      "Total Progress:  42%|████▏     | 42/100 [10:35<14:23, 14.89s/it]"
     ]
    },
    {
     "name": "stdout",
     "output_type": "stream",
     "text": [
      "Epoch [42/100], Train Loss: 0.0300104786 , Val Loss: 0.0678314269\n"
     ]
    },
    {
     "name": "stderr",
     "output_type": "stream",
     "text": [
      "Total Progress:  43%|████▎     | 43/100 [10:50<14:08, 14.88s/it]"
     ]
    },
    {
     "name": "stdout",
     "output_type": "stream",
     "text": [
      "Epoch [43/100], Train Loss: 0.0257228228 , Val Loss: 0.0625303984\n"
     ]
    },
    {
     "name": "stderr",
     "output_type": "stream",
     "text": [
      "Total Progress:  44%|████▍     | 44/100 [11:05<13:51, 14.84s/it]"
     ]
    },
    {
     "name": "stdout",
     "output_type": "stream",
     "text": [
      "Epoch [44/100], Train Loss: 0.0287613211 , Val Loss: 0.0668816268\n"
     ]
    },
    {
     "name": "stderr",
     "output_type": "stream",
     "text": [
      "Total Progress:  45%|████▌     | 45/100 [11:20<13:35, 14.83s/it]"
     ]
    },
    {
     "name": "stdout",
     "output_type": "stream",
     "text": [
      "Epoch [45/100], Train Loss: 0.0276837957 , Val Loss: 0.0621629879\n"
     ]
    },
    {
     "name": "stderr",
     "output_type": "stream",
     "text": [
      "Total Progress:  46%|████▌     | 46/100 [11:34<13:20, 14.82s/it]"
     ]
    },
    {
     "name": "stdout",
     "output_type": "stream",
     "text": [
      "Epoch [46/100], Train Loss: 0.0283053428 , Val Loss: 0.0687312037\n"
     ]
    },
    {
     "name": "stderr",
     "output_type": "stream",
     "text": [
      "Total Progress:  47%|████▋     | 47/100 [11:49<13:06, 14.83s/it]"
     ]
    },
    {
     "name": "stdout",
     "output_type": "stream",
     "text": [
      "Epoch [47/100], Train Loss: 0.0269667692 , Val Loss: 0.0655271709\n"
     ]
    },
    {
     "name": "stderr",
     "output_type": "stream",
     "text": [
      "Total Progress:  48%|████▊     | 48/100 [12:04<12:51, 14.83s/it]"
     ]
    },
    {
     "name": "stdout",
     "output_type": "stream",
     "text": [
      "Epoch [48/100], Train Loss: 0.0269035924 , Val Loss: 0.0800674707\n"
     ]
    },
    {
     "name": "stderr",
     "output_type": "stream",
     "text": [
      "Total Progress:  49%|████▉     | 49/100 [12:19<12:37, 14.85s/it]"
     ]
    },
    {
     "name": "stdout",
     "output_type": "stream",
     "text": [
      "Epoch [49/100], Train Loss: 0.0245233109 , Val Loss: 0.0608966425\n"
     ]
    },
    {
     "name": "stderr",
     "output_type": "stream",
     "text": [
      "Total Progress:  50%|█████     | 50/100 [12:34<12:23, 14.86s/it]"
     ]
    },
    {
     "name": "stdout",
     "output_type": "stream",
     "text": [
      "Epoch [50/100], Train Loss: 0.0278783104 , Val Loss: 0.0654346868\n"
     ]
    },
    {
     "name": "stderr",
     "output_type": "stream",
     "text": [
      "Total Progress:  51%|█████     | 51/100 [12:49<12:08, 14.88s/it]"
     ]
    },
    {
     "name": "stdout",
     "output_type": "stream",
     "text": [
      "Epoch [51/100], Train Loss: 0.0288465328 , Val Loss: 0.0810491443\n"
     ]
    },
    {
     "name": "stderr",
     "output_type": "stream",
     "text": [
      "Total Progress:  52%|█████▏    | 52/100 [13:04<11:53, 14.87s/it]"
     ]
    },
    {
     "name": "stdout",
     "output_type": "stream",
     "text": [
      "Epoch [52/100], Train Loss: 0.0268786007 , Val Loss: 0.0688986331\n"
     ]
    },
    {
     "name": "stderr",
     "output_type": "stream",
     "text": [
      "Total Progress:  53%|█████▎    | 53/100 [13:19<11:39, 14.88s/it]"
     ]
    },
    {
     "name": "stdout",
     "output_type": "stream",
     "text": [
      "Epoch [53/100], Train Loss: 0.0261986896 , Val Loss: 0.0606727004\n"
     ]
    },
    {
     "name": "stderr",
     "output_type": "stream",
     "text": [
      "Total Progress:  54%|█████▍    | 54/100 [13:33<11:25, 14.89s/it]"
     ]
    },
    {
     "name": "stdout",
     "output_type": "stream",
     "text": [
      "Epoch [54/100], Train Loss: 0.0242486166 , Val Loss: 0.0652684048\n"
     ]
    },
    {
     "name": "stderr",
     "output_type": "stream",
     "text": [
      "Total Progress:  55%|█████▌    | 55/100 [13:49<11:13, 14.96s/it]"
     ]
    },
    {
     "name": "stdout",
     "output_type": "stream",
     "text": [
      "Epoch [55/100], Train Loss: 0.0240626787 , Val Loss: 0.0647045895\n"
     ]
    },
    {
     "name": "stderr",
     "output_type": "stream",
     "text": [
      "Total Progress:  56%|█████▌    | 56/100 [14:04<10:59, 14.98s/it]"
     ]
    },
    {
     "name": "stdout",
     "output_type": "stream",
     "text": [
      "Epoch [56/100], Train Loss: 0.0213877697 , Val Loss: 0.0645239800\n"
     ]
    },
    {
     "name": "stderr",
     "output_type": "stream",
     "text": [
      "Total Progress:  57%|█████▋    | 57/100 [14:19<10:45, 15.01s/it]"
     ]
    },
    {
     "name": "stdout",
     "output_type": "stream",
     "text": [
      "Epoch [57/100], Train Loss: 0.0221558333 , Val Loss: 0.0605948828\n"
     ]
    },
    {
     "name": "stderr",
     "output_type": "stream",
     "text": [
      "Total Progress:  58%|█████▊    | 58/100 [14:34<10:30, 15.02s/it]"
     ]
    },
    {
     "name": "stdout",
     "output_type": "stream",
     "text": [
      "Epoch [58/100], Train Loss: 0.0211407320 , Val Loss: 0.0684251562\n"
     ]
    },
    {
     "name": "stderr",
     "output_type": "stream",
     "text": [
      "Total Progress:  59%|█████▉    | 59/100 [14:49<10:15, 15.01s/it]"
     ]
    },
    {
     "name": "stdout",
     "output_type": "stream",
     "text": [
      "Epoch [59/100], Train Loss: 0.0219269997 , Val Loss: 0.0708676502\n"
     ]
    },
    {
     "name": "stderr",
     "output_type": "stream",
     "text": [
      "Total Progress:  60%|██████    | 60/100 [15:04<09:59, 15.00s/it]"
     ]
    },
    {
     "name": "stdout",
     "output_type": "stream",
     "text": [
      "Epoch [60/100], Train Loss: 0.0211554435 , Val Loss: 0.0645374283\n"
     ]
    },
    {
     "name": "stderr",
     "output_type": "stream",
     "text": [
      "Total Progress:  61%|██████    | 61/100 [15:19<09:44, 14.98s/it]"
     ]
    },
    {
     "name": "stdout",
     "output_type": "stream",
     "text": [
      "Epoch [61/100], Train Loss: 0.0212643852 , Val Loss: 0.0701467544\n"
     ]
    },
    {
     "name": "stderr",
     "output_type": "stream",
     "text": [
      "Total Progress:  62%|██████▏   | 62/100 [15:34<09:31, 15.03s/it]"
     ]
    },
    {
     "name": "stdout",
     "output_type": "stream",
     "text": [
      "Epoch [62/100], Train Loss: 0.0218652181 , Val Loss: 0.0684527531\n"
     ]
    },
    {
     "name": "stderr",
     "output_type": "stream",
     "text": [
      "Total Progress:  63%|██████▎   | 63/100 [15:49<09:17, 15.06s/it]"
     ]
    },
    {
     "name": "stdout",
     "output_type": "stream",
     "text": [
      "Epoch [63/100], Train Loss: 0.0220478219 , Val Loss: 0.0728445873\n"
     ]
    },
    {
     "name": "stderr",
     "output_type": "stream",
     "text": [
      "Total Progress:  64%|██████▍   | 64/100 [16:04<09:02, 15.08s/it]"
     ]
    },
    {
     "name": "stdout",
     "output_type": "stream",
     "text": [
      "Epoch [64/100], Train Loss: 0.0228651497 , Val Loss: 0.0624211505\n"
     ]
    },
    {
     "name": "stderr",
     "output_type": "stream",
     "text": [
      "Total Progress:  65%|██████▌   | 65/100 [16:19<08:47, 15.08s/it]"
     ]
    },
    {
     "name": "stdout",
     "output_type": "stream",
     "text": [
      "Epoch [65/100], Train Loss: 0.0199321223 , Val Loss: 0.0701500326\n"
     ]
    },
    {
     "name": "stderr",
     "output_type": "stream",
     "text": [
      "Total Progress:  66%|██████▌   | 66/100 [16:34<08:32, 15.06s/it]"
     ]
    },
    {
     "name": "stdout",
     "output_type": "stream",
     "text": [
      "Epoch [66/100], Train Loss: 0.0309367807 , Val Loss: 0.0794876590\n"
     ]
    },
    {
     "name": "stderr",
     "output_type": "stream",
     "text": [
      "Total Progress:  67%|██████▋   | 67/100 [16:49<08:16, 15.04s/it]"
     ]
    },
    {
     "name": "stdout",
     "output_type": "stream",
     "text": [
      "Epoch [67/100], Train Loss: 0.0301326171 , Val Loss: 0.0652298033\n"
     ]
    },
    {
     "name": "stderr",
     "output_type": "stream",
     "text": [
      "Total Progress:  68%|██████▊   | 68/100 [17:04<08:00, 15.02s/it]"
     ]
    },
    {
     "name": "stdout",
     "output_type": "stream",
     "text": [
      "Epoch [68/100], Train Loss: 0.0243304429 , Val Loss: 0.0827244148\n"
     ]
    },
    {
     "name": "stderr",
     "output_type": "stream",
     "text": [
      "Total Progress:  69%|██████▉   | 69/100 [17:19<07:44, 14.99s/it]"
     ]
    },
    {
     "name": "stdout",
     "output_type": "stream",
     "text": [
      "Epoch [69/100], Train Loss: 0.0219703391 , Val Loss: 0.0676845014\n"
     ]
    },
    {
     "name": "stderr",
     "output_type": "stream",
     "text": [
      "Total Progress:  70%|███████   | 70/100 [17:34<07:29, 14.97s/it]"
     ]
    },
    {
     "name": "stdout",
     "output_type": "stream",
     "text": [
      "Epoch [70/100], Train Loss: 0.0210611217 , Val Loss: 0.0655620098\n"
     ]
    },
    {
     "name": "stderr",
     "output_type": "stream",
     "text": [
      "Total Progress:  71%|███████   | 71/100 [17:49<07:13, 14.94s/it]"
     ]
    },
    {
     "name": "stdout",
     "output_type": "stream",
     "text": [
      "Epoch [71/100], Train Loss: 0.0197185687 , Val Loss: 0.0701412708\n"
     ]
    },
    {
     "name": "stderr",
     "output_type": "stream",
     "text": [
      "Total Progress:  72%|███████▏  | 72/100 [18:04<06:57, 14.93s/it]"
     ]
    },
    {
     "name": "stdout",
     "output_type": "stream",
     "text": [
      "Epoch [72/100], Train Loss: 0.0216375938 , Val Loss: 0.0719731078\n"
     ]
    },
    {
     "name": "stderr",
     "output_type": "stream",
     "text": [
      "Total Progress:  73%|███████▎  | 73/100 [18:19<06:42, 14.92s/it]"
     ]
    },
    {
     "name": "stdout",
     "output_type": "stream",
     "text": [
      "Epoch [73/100], Train Loss: 0.0255287470 , Val Loss: 0.0739833787\n"
     ]
    },
    {
     "name": "stderr",
     "output_type": "stream",
     "text": [
      "Total Progress:  74%|███████▍  | 74/100 [18:34<06:27, 14.90s/it]"
     ]
    },
    {
     "name": "stdout",
     "output_type": "stream",
     "text": [
      "Epoch [74/100], Train Loss: 0.0252028769 , Val Loss: 0.0787199065\n"
     ]
    },
    {
     "name": "stderr",
     "output_type": "stream",
     "text": [
      "Total Progress:  75%|███████▌  | 75/100 [18:48<06:12, 14.89s/it]"
     ]
    },
    {
     "name": "stdout",
     "output_type": "stream",
     "text": [
      "Epoch [75/100], Train Loss: 0.0274187556 , Val Loss: 0.0740900040\n"
     ]
    },
    {
     "name": "stderr",
     "output_type": "stream",
     "text": [
      "Total Progress:  76%|███████▌  | 76/100 [19:03<05:56, 14.85s/it]"
     ]
    },
    {
     "name": "stdout",
     "output_type": "stream",
     "text": [
      "Epoch [76/100], Train Loss: 0.0211062838 , Val Loss: 0.0630265102\n"
     ]
    },
    {
     "name": "stderr",
     "output_type": "stream",
     "text": [
      "Total Progress:  77%|███████▋  | 77/100 [19:18<05:40, 14.80s/it]"
     ]
    },
    {
     "name": "stdout",
     "output_type": "stream",
     "text": [
      "Epoch [77/100], Train Loss: 0.0182404390 , Val Loss: 0.0618452728\n"
     ]
    },
    {
     "name": "stderr",
     "output_type": "stream",
     "text": [
      "Total Progress:  78%|███████▊  | 78/100 [19:33<05:25, 14.79s/it]"
     ]
    },
    {
     "name": "stdout",
     "output_type": "stream",
     "text": [
      "Epoch [78/100], Train Loss: 0.0179517763 , Val Loss: 0.0630413592\n"
     ]
    },
    {
     "name": "stderr",
     "output_type": "stream",
     "text": [
      "Total Progress:  79%|███████▉  | 79/100 [19:47<05:10, 14.79s/it]"
     ]
    },
    {
     "name": "stdout",
     "output_type": "stream",
     "text": [
      "Epoch [79/100], Train Loss: 0.0168786588 , Val Loss: 0.0644734651\n"
     ]
    },
    {
     "name": "stderr",
     "output_type": "stream",
     "text": [
      "Total Progress:  80%|████████  | 80/100 [20:02<04:55, 14.77s/it]"
     ]
    },
    {
     "name": "stdout",
     "output_type": "stream",
     "text": [
      "Epoch [80/100], Train Loss: 0.0159527617 , Val Loss: 0.0625504330\n"
     ]
    },
    {
     "name": "stderr",
     "output_type": "stream",
     "text": [
      "Total Progress:  81%|████████  | 81/100 [20:17<04:40, 14.76s/it]"
     ]
    },
    {
     "name": "stdout",
     "output_type": "stream",
     "text": [
      "Epoch [81/100], Train Loss: 0.0148618616 , Val Loss: 0.0598094836\n"
     ]
    },
    {
     "name": "stderr",
     "output_type": "stream",
     "text": [
      "Total Progress:  82%|████████▏ | 82/100 [20:32<04:25, 14.77s/it]"
     ]
    },
    {
     "name": "stdout",
     "output_type": "stream",
     "text": [
      "Epoch [82/100], Train Loss: 0.0146446790 , Val Loss: 0.0612473860\n"
     ]
    },
    {
     "name": "stderr",
     "output_type": "stream",
     "text": [
      "Total Progress:  83%|████████▎ | 83/100 [20:46<04:11, 14.78s/it]"
     ]
    },
    {
     "name": "stdout",
     "output_type": "stream",
     "text": [
      "Epoch [83/100], Train Loss: 0.0161651107 , Val Loss: 0.0648224279\n"
     ]
    },
    {
     "name": "stderr",
     "output_type": "stream",
     "text": [
      "Total Progress:  84%|████████▍ | 84/100 [21:01<03:56, 14.79s/it]"
     ]
    },
    {
     "name": "stdout",
     "output_type": "stream",
     "text": [
      "Epoch [84/100], Train Loss: 0.0142468866 , Val Loss: 0.0658435300\n"
     ]
    },
    {
     "name": "stderr",
     "output_type": "stream",
     "text": [
      "Total Progress:  85%|████████▌ | 85/100 [21:16<03:41, 14.78s/it]"
     ]
    },
    {
     "name": "stdout",
     "output_type": "stream",
     "text": [
      "Epoch [85/100], Train Loss: 0.0165853059 , Val Loss: 0.0654491484\n"
     ]
    },
    {
     "name": "stderr",
     "output_type": "stream",
     "text": [
      "Total Progress:  86%|████████▌ | 86/100 [21:31<03:26, 14.78s/it]"
     ]
    },
    {
     "name": "stdout",
     "output_type": "stream",
     "text": [
      "Epoch [86/100], Train Loss: 0.0169472556 , Val Loss: 0.0631209239\n"
     ]
    },
    {
     "name": "stderr",
     "output_type": "stream",
     "text": [
      "Total Progress:  87%|████████▋ | 87/100 [21:45<03:11, 14.76s/it]"
     ]
    },
    {
     "name": "stdout",
     "output_type": "stream",
     "text": [
      "Epoch [87/100], Train Loss: 0.0150140364 , Val Loss: 0.0671034306\n"
     ]
    },
    {
     "name": "stderr",
     "output_type": "stream",
     "text": [
      "Total Progress:  88%|████████▊ | 88/100 [22:00<02:57, 14.75s/it]"
     ]
    },
    {
     "name": "stdout",
     "output_type": "stream",
     "text": [
      "Epoch [88/100], Train Loss: 0.0147660785 , Val Loss: 0.0609422512\n"
     ]
    },
    {
     "name": "stderr",
     "output_type": "stream",
     "text": [
      "Total Progress:  89%|████████▉ | 89/100 [22:15<02:42, 14.74s/it]"
     ]
    },
    {
     "name": "stdout",
     "output_type": "stream",
     "text": [
      "Epoch [89/100], Train Loss: 0.0240407889 , Val Loss: 0.0680233836\n"
     ]
    },
    {
     "name": "stderr",
     "output_type": "stream",
     "text": [
      "Total Progress:  90%|█████████ | 90/100 [22:30<02:27, 14.74s/it]"
     ]
    },
    {
     "name": "stdout",
     "output_type": "stream",
     "text": [
      "Epoch [90/100], Train Loss: 0.0269013304 , Val Loss: 0.0918786302\n"
     ]
    },
    {
     "name": "stderr",
     "output_type": "stream",
     "text": [
      "Total Progress:  91%|█████████ | 91/100 [22:44<02:12, 14.73s/it]"
     ]
    },
    {
     "name": "stdout",
     "output_type": "stream",
     "text": [
      "Epoch [91/100], Train Loss: 0.0218923834 , Val Loss: 0.0711963624\n"
     ]
    },
    {
     "name": "stderr",
     "output_type": "stream",
     "text": [
      "Total Progress:  92%|█████████▏| 92/100 [22:59<01:57, 14.73s/it]"
     ]
    },
    {
     "name": "stdout",
     "output_type": "stream",
     "text": [
      "Epoch [92/100], Train Loss: 0.0177498789 , Val Loss: 0.0585445091\n"
     ]
    },
    {
     "name": "stderr",
     "output_type": "stream",
     "text": [
      "Total Progress:  93%|█████████▎| 93/100 [23:14<01:43, 14.73s/it]"
     ]
    },
    {
     "name": "stdout",
     "output_type": "stream",
     "text": [
      "Epoch [93/100], Train Loss: 0.0186421738 , Val Loss: 0.0684938729\n"
     ]
    },
    {
     "name": "stderr",
     "output_type": "stream",
     "text": [
      "Total Progress:  94%|█████████▍| 94/100 [23:29<01:28, 14.72s/it]"
     ]
    },
    {
     "name": "stdout",
     "output_type": "stream",
     "text": [
      "Epoch [94/100], Train Loss: 0.0210145186 , Val Loss: 0.0698609874\n"
     ]
    },
    {
     "name": "stderr",
     "output_type": "stream",
     "text": [
      "Total Progress:  95%|█████████▌| 95/100 [23:43<01:13, 14.73s/it]"
     ]
    },
    {
     "name": "stdout",
     "output_type": "stream",
     "text": [
      "Epoch [95/100], Train Loss: 0.0172546427 , Val Loss: 0.0781958848\n"
     ]
    },
    {
     "name": "stderr",
     "output_type": "stream",
     "text": [
      "Total Progress:  96%|█████████▌| 96/100 [23:58<00:58, 14.73s/it]"
     ]
    },
    {
     "name": "stdout",
     "output_type": "stream",
     "text": [
      "Epoch [96/100], Train Loss: 0.0171769367 , Val Loss: 0.0761600509\n"
     ]
    },
    {
     "name": "stderr",
     "output_type": "stream",
     "text": [
      "Total Progress:  97%|█████████▋| 97/100 [24:13<00:44, 14.73s/it]"
     ]
    },
    {
     "name": "stdout",
     "output_type": "stream",
     "text": [
      "Epoch [97/100], Train Loss: 0.0160684142 , Val Loss: 0.0744323283\n"
     ]
    },
    {
     "name": "stderr",
     "output_type": "stream",
     "text": [
      "Total Progress:  98%|█████████▊| 98/100 [24:27<00:29, 14.73s/it]"
     ]
    },
    {
     "name": "stdout",
     "output_type": "stream",
     "text": [
      "Epoch [98/100], Train Loss: 0.0153252096 , Val Loss: 0.0802170858\n"
     ]
    },
    {
     "name": "stderr",
     "output_type": "stream",
     "text": [
      "Total Progress:  99%|█████████▉| 99/100 [24:42<00:14, 14.73s/it]"
     ]
    },
    {
     "name": "stdout",
     "output_type": "stream",
     "text": [
      "Epoch [99/100], Train Loss: 0.0144642045 , Val Loss: 0.0681337640\n"
     ]
    },
    {
     "name": "stderr",
     "output_type": "stream",
     "text": [
      "Total Progress: 100%|██████████| 100/100 [24:57<00:00, 14.97s/it]"
     ]
    },
    {
     "name": "stdout",
     "output_type": "stream",
     "text": [
      "Epoch [100/100], Train Loss: 0.0205203051 , Val Loss: 0.0789717808\n"
     ]
    },
    {
     "name": "stderr",
     "output_type": "stream",
     "text": [
      "\n"
     ]
    }
   ],
   "source": [
    "from tqdm import tqdm\n",
    "import time\n",
    "\n",
    "num_epochs = 100\n",
    "\n",
    "device = torch.device('cuda' if torch.cuda.is_available() else \"cpu\")\n",
    "model.to(device)\n",
    "criterion1 = nn.CrossEntropyLoss()\n",
    "criterion2 = DiceLoss()\n",
    "best_val_loss = 999\n",
    "\n",
    "epoch_bar = tqdm(total=num_epochs, desc='Total Progress')\n",
    "\n",
    "for epoch in range(num_epochs):\n",
    "    model.train()\n",
    "    train_loss = 0\n",
    "    for images, labels in train_loader:\n",
    "        images = images.to(device)\n",
    "        labels = labels.to(device)\n",
    "\n",
    "        labels = labels.squeeze(dim=1).long()\n",
    "        outputs = model(images)\n",
    "    \n",
    "        loss1 = criterion1(outputs, labels)\n",
    "        loss2 = criterion2(outputs, labels)\n",
    "        loss = loss1 + loss2\n",
    "        loss.backward()\n",
    "        optimizer.step()\n",
    "        optimizer.zero_grad()\n",
    "        train_loss += loss.item()\n",
    "    model.eval()\n",
    "    with torch.no_grad():\n",
    "        val_loss = 0\n",
    "        for images, labels in val_loader:\n",
    "            images = images.to(device)\n",
    "            labels = labels.to(device)\n",
    "            labels = labels.squeeze(dim=1).long()\n",
    "            \n",
    "            outputs = model(images)\n",
    "\n",
    "            val_loss1 = criterion1(outputs,labels)\n",
    "            val_loss2 = criterion2(outputs,labels)\n",
    "            val_loss += val_loss1 + val_loss2\n",
    "\n",
    "    print(f\"Epoch [{epoch+1}/{num_epochs}], Train Loss: {train_loss/len(train_loader):.10f} , Val Loss: {val_loss/len(val_loader):.10f}\")\n",
    "    if val_loss < best_val_loss:\n",
    "        best_val_loss = val_loss\n",
    "        checkpoint = { \n",
    "            'epoch': epoch,\n",
    "            'model': model.state_dict(),\n",
    "            'optimizer': optimizer.state_dict(),\n",
    "            'loss': val_loss,\n",
    "        }\n",
    "        save_path = f'model.pth'\n",
    "        torch.save(checkpoint, save_path)\n",
    "        \n",
    "    epoch_bar.update(1)\n",
    "    wandb.log({'Val_loss': val_loss/len(val_loader),'Train_loss': train_loss/len(train_loader)})\n",
    "epoch_bar.close()"
   ]
  },
  {
   "cell_type": "code",
   "execution_count": 20,
   "id": "67b16886",
   "metadata": {
    "execution": {
     "iopub.execute_input": "2024-11-21T15:13:23.103327Z",
     "iopub.status.busy": "2024-11-21T15:13:23.103024Z",
     "iopub.status.idle": "2024-11-21T15:13:26.955924Z",
     "shell.execute_reply": "2024-11-21T15:13:26.954392Z"
    },
    "papermill": {
     "duration": 3.87132,
     "end_time": "2024-11-21T15:13:26.957426",
     "exception": true,
     "start_time": "2024-11-21T15:13:23.086106",
     "status": "failed"
    },
    "tags": []
   },
   "outputs": [
    {
     "name": "stderr",
     "output_type": "stream",
     "text": [
      "C:\\Users\\84359\\AppData\\Local\\Temp\\ipykernel_3964\\4249454291.py:1: FutureWarning: You are using `torch.load` with `weights_only=False` (the current default value), which uses the default pickle module implicitly. It is possible to construct malicious pickle data which will execute arbitrary code during unpickling (See https://github.com/pytorch/pytorch/blob/main/SECURITY.md#untrusted-models for more details). In a future release, the default value for `weights_only` will be flipped to `True`. This limits the functions that could be executed during unpickling. Arbitrary objects will no longer be allowed to be loaded via this mode unless they are explicitly allowlisted by the user via `torch.serialization.add_safe_globals`. We recommend you start setting `weights_only=True` for any use case where you don't have full control of the loaded file. Please open an issue on GitHub for any issues related to this experimental feature.\n",
      "  checkpoint = torch.load('model.pth')\n"
     ]
    },
    {
     "data": {
      "text/plain": [
       "Unet(\n",
       "  (encoder): ResNetEncoder(\n",
       "    (conv1): Conv2d(3, 64, kernel_size=(7, 7), stride=(2, 2), padding=(3, 3), bias=False)\n",
       "    (bn1): BatchNorm2d(64, eps=1e-05, momentum=0.1, affine=True, track_running_stats=True)\n",
       "    (relu): ReLU(inplace=True)\n",
       "    (maxpool): MaxPool2d(kernel_size=3, stride=2, padding=1, dilation=1, ceil_mode=False)\n",
       "    (layer1): Sequential(\n",
       "      (0): BasicBlock(\n",
       "        (conv1): Conv2d(64, 64, kernel_size=(3, 3), stride=(1, 1), padding=(1, 1), bias=False)\n",
       "        (bn1): BatchNorm2d(64, eps=1e-05, momentum=0.1, affine=True, track_running_stats=True)\n",
       "        (relu): ReLU(inplace=True)\n",
       "        (conv2): Conv2d(64, 64, kernel_size=(3, 3), stride=(1, 1), padding=(1, 1), bias=False)\n",
       "        (bn2): BatchNorm2d(64, eps=1e-05, momentum=0.1, affine=True, track_running_stats=True)\n",
       "      )\n",
       "      (1): BasicBlock(\n",
       "        (conv1): Conv2d(64, 64, kernel_size=(3, 3), stride=(1, 1), padding=(1, 1), bias=False)\n",
       "        (bn1): BatchNorm2d(64, eps=1e-05, momentum=0.1, affine=True, track_running_stats=True)\n",
       "        (relu): ReLU(inplace=True)\n",
       "        (conv2): Conv2d(64, 64, kernel_size=(3, 3), stride=(1, 1), padding=(1, 1), bias=False)\n",
       "        (bn2): BatchNorm2d(64, eps=1e-05, momentum=0.1, affine=True, track_running_stats=True)\n",
       "      )\n",
       "      (2): BasicBlock(\n",
       "        (conv1): Conv2d(64, 64, kernel_size=(3, 3), stride=(1, 1), padding=(1, 1), bias=False)\n",
       "        (bn1): BatchNorm2d(64, eps=1e-05, momentum=0.1, affine=True, track_running_stats=True)\n",
       "        (relu): ReLU(inplace=True)\n",
       "        (conv2): Conv2d(64, 64, kernel_size=(3, 3), stride=(1, 1), padding=(1, 1), bias=False)\n",
       "        (bn2): BatchNorm2d(64, eps=1e-05, momentum=0.1, affine=True, track_running_stats=True)\n",
       "      )\n",
       "    )\n",
       "    (layer2): Sequential(\n",
       "      (0): BasicBlock(\n",
       "        (conv1): Conv2d(64, 128, kernel_size=(3, 3), stride=(2, 2), padding=(1, 1), bias=False)\n",
       "        (bn1): BatchNorm2d(128, eps=1e-05, momentum=0.1, affine=True, track_running_stats=True)\n",
       "        (relu): ReLU(inplace=True)\n",
       "        (conv2): Conv2d(128, 128, kernel_size=(3, 3), stride=(1, 1), padding=(1, 1), bias=False)\n",
       "        (bn2): BatchNorm2d(128, eps=1e-05, momentum=0.1, affine=True, track_running_stats=True)\n",
       "        (downsample): Sequential(\n",
       "          (0): Conv2d(64, 128, kernel_size=(1, 1), stride=(2, 2), bias=False)\n",
       "          (1): BatchNorm2d(128, eps=1e-05, momentum=0.1, affine=True, track_running_stats=True)\n",
       "        )\n",
       "      )\n",
       "      (1): BasicBlock(\n",
       "        (conv1): Conv2d(128, 128, kernel_size=(3, 3), stride=(1, 1), padding=(1, 1), bias=False)\n",
       "        (bn1): BatchNorm2d(128, eps=1e-05, momentum=0.1, affine=True, track_running_stats=True)\n",
       "        (relu): ReLU(inplace=True)\n",
       "        (conv2): Conv2d(128, 128, kernel_size=(3, 3), stride=(1, 1), padding=(1, 1), bias=False)\n",
       "        (bn2): BatchNorm2d(128, eps=1e-05, momentum=0.1, affine=True, track_running_stats=True)\n",
       "      )\n",
       "      (2): BasicBlock(\n",
       "        (conv1): Conv2d(128, 128, kernel_size=(3, 3), stride=(1, 1), padding=(1, 1), bias=False)\n",
       "        (bn1): BatchNorm2d(128, eps=1e-05, momentum=0.1, affine=True, track_running_stats=True)\n",
       "        (relu): ReLU(inplace=True)\n",
       "        (conv2): Conv2d(128, 128, kernel_size=(3, 3), stride=(1, 1), padding=(1, 1), bias=False)\n",
       "        (bn2): BatchNorm2d(128, eps=1e-05, momentum=0.1, affine=True, track_running_stats=True)\n",
       "      )\n",
       "      (3): BasicBlock(\n",
       "        (conv1): Conv2d(128, 128, kernel_size=(3, 3), stride=(1, 1), padding=(1, 1), bias=False)\n",
       "        (bn1): BatchNorm2d(128, eps=1e-05, momentum=0.1, affine=True, track_running_stats=True)\n",
       "        (relu): ReLU(inplace=True)\n",
       "        (conv2): Conv2d(128, 128, kernel_size=(3, 3), stride=(1, 1), padding=(1, 1), bias=False)\n",
       "        (bn2): BatchNorm2d(128, eps=1e-05, momentum=0.1, affine=True, track_running_stats=True)\n",
       "      )\n",
       "    )\n",
       "    (layer3): Sequential(\n",
       "      (0): BasicBlock(\n",
       "        (conv1): Conv2d(128, 256, kernel_size=(3, 3), stride=(2, 2), padding=(1, 1), bias=False)\n",
       "        (bn1): BatchNorm2d(256, eps=1e-05, momentum=0.1, affine=True, track_running_stats=True)\n",
       "        (relu): ReLU(inplace=True)\n",
       "        (conv2): Conv2d(256, 256, kernel_size=(3, 3), stride=(1, 1), padding=(1, 1), bias=False)\n",
       "        (bn2): BatchNorm2d(256, eps=1e-05, momentum=0.1, affine=True, track_running_stats=True)\n",
       "        (downsample): Sequential(\n",
       "          (0): Conv2d(128, 256, kernel_size=(1, 1), stride=(2, 2), bias=False)\n",
       "          (1): BatchNorm2d(256, eps=1e-05, momentum=0.1, affine=True, track_running_stats=True)\n",
       "        )\n",
       "      )\n",
       "      (1): BasicBlock(\n",
       "        (conv1): Conv2d(256, 256, kernel_size=(3, 3), stride=(1, 1), padding=(1, 1), bias=False)\n",
       "        (bn1): BatchNorm2d(256, eps=1e-05, momentum=0.1, affine=True, track_running_stats=True)\n",
       "        (relu): ReLU(inplace=True)\n",
       "        (conv2): Conv2d(256, 256, kernel_size=(3, 3), stride=(1, 1), padding=(1, 1), bias=False)\n",
       "        (bn2): BatchNorm2d(256, eps=1e-05, momentum=0.1, affine=True, track_running_stats=True)\n",
       "      )\n",
       "      (2): BasicBlock(\n",
       "        (conv1): Conv2d(256, 256, kernel_size=(3, 3), stride=(1, 1), padding=(1, 1), bias=False)\n",
       "        (bn1): BatchNorm2d(256, eps=1e-05, momentum=0.1, affine=True, track_running_stats=True)\n",
       "        (relu): ReLU(inplace=True)\n",
       "        (conv2): Conv2d(256, 256, kernel_size=(3, 3), stride=(1, 1), padding=(1, 1), bias=False)\n",
       "        (bn2): BatchNorm2d(256, eps=1e-05, momentum=0.1, affine=True, track_running_stats=True)\n",
       "      )\n",
       "      (3): BasicBlock(\n",
       "        (conv1): Conv2d(256, 256, kernel_size=(3, 3), stride=(1, 1), padding=(1, 1), bias=False)\n",
       "        (bn1): BatchNorm2d(256, eps=1e-05, momentum=0.1, affine=True, track_running_stats=True)\n",
       "        (relu): ReLU(inplace=True)\n",
       "        (conv2): Conv2d(256, 256, kernel_size=(3, 3), stride=(1, 1), padding=(1, 1), bias=False)\n",
       "        (bn2): BatchNorm2d(256, eps=1e-05, momentum=0.1, affine=True, track_running_stats=True)\n",
       "      )\n",
       "      (4): BasicBlock(\n",
       "        (conv1): Conv2d(256, 256, kernel_size=(3, 3), stride=(1, 1), padding=(1, 1), bias=False)\n",
       "        (bn1): BatchNorm2d(256, eps=1e-05, momentum=0.1, affine=True, track_running_stats=True)\n",
       "        (relu): ReLU(inplace=True)\n",
       "        (conv2): Conv2d(256, 256, kernel_size=(3, 3), stride=(1, 1), padding=(1, 1), bias=False)\n",
       "        (bn2): BatchNorm2d(256, eps=1e-05, momentum=0.1, affine=True, track_running_stats=True)\n",
       "      )\n",
       "      (5): BasicBlock(\n",
       "        (conv1): Conv2d(256, 256, kernel_size=(3, 3), stride=(1, 1), padding=(1, 1), bias=False)\n",
       "        (bn1): BatchNorm2d(256, eps=1e-05, momentum=0.1, affine=True, track_running_stats=True)\n",
       "        (relu): ReLU(inplace=True)\n",
       "        (conv2): Conv2d(256, 256, kernel_size=(3, 3), stride=(1, 1), padding=(1, 1), bias=False)\n",
       "        (bn2): BatchNorm2d(256, eps=1e-05, momentum=0.1, affine=True, track_running_stats=True)\n",
       "      )\n",
       "    )\n",
       "    (layer4): Sequential(\n",
       "      (0): BasicBlock(\n",
       "        (conv1): Conv2d(256, 512, kernel_size=(3, 3), stride=(2, 2), padding=(1, 1), bias=False)\n",
       "        (bn1): BatchNorm2d(512, eps=1e-05, momentum=0.1, affine=True, track_running_stats=True)\n",
       "        (relu): ReLU(inplace=True)\n",
       "        (conv2): Conv2d(512, 512, kernel_size=(3, 3), stride=(1, 1), padding=(1, 1), bias=False)\n",
       "        (bn2): BatchNorm2d(512, eps=1e-05, momentum=0.1, affine=True, track_running_stats=True)\n",
       "        (downsample): Sequential(\n",
       "          (0): Conv2d(256, 512, kernel_size=(1, 1), stride=(2, 2), bias=False)\n",
       "          (1): BatchNorm2d(512, eps=1e-05, momentum=0.1, affine=True, track_running_stats=True)\n",
       "        )\n",
       "      )\n",
       "      (1): BasicBlock(\n",
       "        (conv1): Conv2d(512, 512, kernel_size=(3, 3), stride=(1, 1), padding=(1, 1), bias=False)\n",
       "        (bn1): BatchNorm2d(512, eps=1e-05, momentum=0.1, affine=True, track_running_stats=True)\n",
       "        (relu): ReLU(inplace=True)\n",
       "        (conv2): Conv2d(512, 512, kernel_size=(3, 3), stride=(1, 1), padding=(1, 1), bias=False)\n",
       "        (bn2): BatchNorm2d(512, eps=1e-05, momentum=0.1, affine=True, track_running_stats=True)\n",
       "      )\n",
       "      (2): BasicBlock(\n",
       "        (conv1): Conv2d(512, 512, kernel_size=(3, 3), stride=(1, 1), padding=(1, 1), bias=False)\n",
       "        (bn1): BatchNorm2d(512, eps=1e-05, momentum=0.1, affine=True, track_running_stats=True)\n",
       "        (relu): ReLU(inplace=True)\n",
       "        (conv2): Conv2d(512, 512, kernel_size=(3, 3), stride=(1, 1), padding=(1, 1), bias=False)\n",
       "        (bn2): BatchNorm2d(512, eps=1e-05, momentum=0.1, affine=True, track_running_stats=True)\n",
       "      )\n",
       "    )\n",
       "  )\n",
       "  (decoder): UnetDecoder(\n",
       "    (center): Identity()\n",
       "    (blocks): ModuleList(\n",
       "      (0): DecoderBlock(\n",
       "        (conv1): Conv2dReLU(\n",
       "          (0): Conv2d(768, 256, kernel_size=(3, 3), stride=(1, 1), padding=(1, 1), bias=False)\n",
       "          (1): BatchNorm2d(256, eps=1e-05, momentum=0.1, affine=True, track_running_stats=True)\n",
       "          (2): ReLU(inplace=True)\n",
       "        )\n",
       "        (attention1): Attention(\n",
       "          (attention): Identity()\n",
       "        )\n",
       "        (conv2): Conv2dReLU(\n",
       "          (0): Conv2d(256, 256, kernel_size=(3, 3), stride=(1, 1), padding=(1, 1), bias=False)\n",
       "          (1): BatchNorm2d(256, eps=1e-05, momentum=0.1, affine=True, track_running_stats=True)\n",
       "          (2): ReLU(inplace=True)\n",
       "        )\n",
       "        (attention2): Attention(\n",
       "          (attention): Identity()\n",
       "        )\n",
       "      )\n",
       "      (1): DecoderBlock(\n",
       "        (conv1): Conv2dReLU(\n",
       "          (0): Conv2d(384, 128, kernel_size=(3, 3), stride=(1, 1), padding=(1, 1), bias=False)\n",
       "          (1): BatchNorm2d(128, eps=1e-05, momentum=0.1, affine=True, track_running_stats=True)\n",
       "          (2): ReLU(inplace=True)\n",
       "        )\n",
       "        (attention1): Attention(\n",
       "          (attention): Identity()\n",
       "        )\n",
       "        (conv2): Conv2dReLU(\n",
       "          (0): Conv2d(128, 128, kernel_size=(3, 3), stride=(1, 1), padding=(1, 1), bias=False)\n",
       "          (1): BatchNorm2d(128, eps=1e-05, momentum=0.1, affine=True, track_running_stats=True)\n",
       "          (2): ReLU(inplace=True)\n",
       "        )\n",
       "        (attention2): Attention(\n",
       "          (attention): Identity()\n",
       "        )\n",
       "      )\n",
       "      (2): DecoderBlock(\n",
       "        (conv1): Conv2dReLU(\n",
       "          (0): Conv2d(192, 64, kernel_size=(3, 3), stride=(1, 1), padding=(1, 1), bias=False)\n",
       "          (1): BatchNorm2d(64, eps=1e-05, momentum=0.1, affine=True, track_running_stats=True)\n",
       "          (2): ReLU(inplace=True)\n",
       "        )\n",
       "        (attention1): Attention(\n",
       "          (attention): Identity()\n",
       "        )\n",
       "        (conv2): Conv2dReLU(\n",
       "          (0): Conv2d(64, 64, kernel_size=(3, 3), stride=(1, 1), padding=(1, 1), bias=False)\n",
       "          (1): BatchNorm2d(64, eps=1e-05, momentum=0.1, affine=True, track_running_stats=True)\n",
       "          (2): ReLU(inplace=True)\n",
       "        )\n",
       "        (attention2): Attention(\n",
       "          (attention): Identity()\n",
       "        )\n",
       "      )\n",
       "      (3): DecoderBlock(\n",
       "        (conv1): Conv2dReLU(\n",
       "          (0): Conv2d(128, 32, kernel_size=(3, 3), stride=(1, 1), padding=(1, 1), bias=False)\n",
       "          (1): BatchNorm2d(32, eps=1e-05, momentum=0.1, affine=True, track_running_stats=True)\n",
       "          (2): ReLU(inplace=True)\n",
       "        )\n",
       "        (attention1): Attention(\n",
       "          (attention): Identity()\n",
       "        )\n",
       "        (conv2): Conv2dReLU(\n",
       "          (0): Conv2d(32, 32, kernel_size=(3, 3), stride=(1, 1), padding=(1, 1), bias=False)\n",
       "          (1): BatchNorm2d(32, eps=1e-05, momentum=0.1, affine=True, track_running_stats=True)\n",
       "          (2): ReLU(inplace=True)\n",
       "        )\n",
       "        (attention2): Attention(\n",
       "          (attention): Identity()\n",
       "        )\n",
       "      )\n",
       "      (4): DecoderBlock(\n",
       "        (conv1): Conv2dReLU(\n",
       "          (0): Conv2d(32, 16, kernel_size=(3, 3), stride=(1, 1), padding=(1, 1), bias=False)\n",
       "          (1): BatchNorm2d(16, eps=1e-05, momentum=0.1, affine=True, track_running_stats=True)\n",
       "          (2): ReLU(inplace=True)\n",
       "        )\n",
       "        (attention1): Attention(\n",
       "          (attention): Identity()\n",
       "        )\n",
       "        (conv2): Conv2dReLU(\n",
       "          (0): Conv2d(16, 16, kernel_size=(3, 3), stride=(1, 1), padding=(1, 1), bias=False)\n",
       "          (1): BatchNorm2d(16, eps=1e-05, momentum=0.1, affine=True, track_running_stats=True)\n",
       "          (2): ReLU(inplace=True)\n",
       "        )\n",
       "        (attention2): Attention(\n",
       "          (attention): Identity()\n",
       "        )\n",
       "      )\n",
       "    )\n",
       "  )\n",
       "  (segmentation_head): SegmentationHead(\n",
       "    (0): Conv2d(16, 3, kernel_size=(3, 3), stride=(1, 1), padding=(1, 1))\n",
       "    (1): Identity()\n",
       "    (2): Activation(\n",
       "      (activation): Identity()\n",
       "    )\n",
       "  )\n",
       ")"
      ]
     },
     "execution_count": 20,
     "metadata": {},
     "output_type": "execute_result"
    }
   ],
   "source": [
    "checkpoint = torch.load('model.pth')\n",
    "model.load_state_dict(checkpoint['model'])\n",
    "device = torch.device('cuda' if torch.cuda.is_available() else \"cpu\")\n",
    "model.to(device)"
   ]
  },
  {
   "cell_type": "code",
   "execution_count": 21,
   "id": "57cc811d",
   "metadata": {
    "papermill": {
     "duration": null,
     "end_time": null,
     "exception": null,
     "start_time": null,
     "status": "pending"
    },
    "tags": []
   },
   "outputs": [],
   "source": [
    "model.eval()\n",
    "for i in os.listdir(\"../data/test/test\"):\n",
    "    img_path = os.path.join(\"../data/test/test\", i)\n",
    "    ori_img = cv2.imread(img_path)\n",
    "    ori_img = cv2.cvtColor(ori_img, cv2.COLOR_BGR2RGB)\n",
    "    ori_w = ori_img.shape[0]\n",
    "    ori_h = ori_img.shape[1]\n",
    "    img = cv2.resize(ori_img, (256, 256))\n",
    "    transformed = val_transformation(image=img)\n",
    "    input_img = transformed[\"image\"]\n",
    "    input_img = input_img.unsqueeze(0).to(device)\n",
    "    with torch.no_grad():\n",
    "        output_mask = model.forward(input_img).squeeze(0).cpu().numpy().transpose(1,2,0)\n",
    "    mask = cv2.resize(output_mask, (ori_h, ori_w))\n",
    "    mask = np.argmax(mask, axis=2)\n",
    "    mask_rgb = mask_to_rgb(mask, color_dict)\n",
    "    mask_rgb = cv2.cvtColor(mask_rgb, cv2.COLOR_RGB2BGR)\n",
    "    cv2.imwrite(\"prediction/{}\".format(i), mask_rgb) "
   ]
  },
  {
   "cell_type": "code",
   "execution_count": 22,
   "id": "03c311ff",
   "metadata": {
    "papermill": {
     "duration": null,
     "end_time": null,
     "exception": null,
     "start_time": null,
     "status": "pending"
    },
    "tags": []
   },
   "outputs": [
    {
     "name": "stdout",
     "output_type": "stream",
     "text": [
      "prediction/019410b1fcf0625f608b4ce97629ab55.jpeg\n",
      "prediction/02fa602bb3c7abacdbd7e6afd56ea7bc.jpeg\n",
      "prediction/0398846f67b5df7cdf3f33c3ca4d5060.jpeg\n",
      "prediction/05734fbeedd0f9da760db74a29abdb04.jpeg\n",
      "prediction/05b78a91391adc0bb223c4eaf3372eae.jpeg\n",
      "prediction/0619ebebe9e9c9d00a4262b4fe4a5a95.jpeg\n",
      "prediction/0626ab4ec3d46e602b296cc5cfd263f1.jpeg\n",
      "prediction/0a0317371a966bf4b3466463a3c64db1.jpeg\n",
      "prediction/0a5f3601ad4f13ccf1f4b331a412fc44.jpeg\n",
      "prediction/0af3feff05dec1eb3a70b145a7d8d3b6.jpeg\n",
      "prediction/0fca6a4248a41e8db8b4ed633b456aaa.jpeg\n",
      "prediction/1002ec4a1fe748f3085f1ce88cbdf366.jpeg\n",
      "prediction/1209db6dcdda5cc8a788edaeb6aa460a.jpeg\n",
      "prediction/13dd311a65d2b46d0a6085835c525af6.jpeg\n",
      "prediction/1531871f2fd85a04faeeb2b535797395.jpeg\n",
      "prediction/15fc656702fa602bb3c7abacdbd7e6af.jpeg\n",
      "prediction/1ad4f13ccf1f4b331a412fc44655fb51.jpeg\n",
      "prediction/1b62f15ec83b97bb11e8e0c4416c1931.jpeg\n",
      "prediction/1c0e9082ea2c193ac8d551c149b60f29.jpeg\n",
      "prediction/1db239dda50f954ba59c7de13a35276a.jpeg\n",
      "prediction/26679bff55177a34fc01019eec999fd8.jpeg\n",
      "prediction/268d4b4ef4d95ceea11957998906d369.jpeg\n",
      "prediction/27738677a6b1f2c6d40b3bbba8f6c704.jpeg\n",
      "prediction/285e26c90e1797c77826f9a7021bab9f.jpeg\n",
      "prediction/2a365b5574868eb60861ee1ff0b8a4f6.jpeg\n",
      "prediction/2cd066b9fdbc3bbc04a3afe1f119f21b.jpeg\n",
      "prediction/2d9e593b6be1ac29adbe86f03d900fd1.jpeg\n",
      "prediction/2ed9fbb63b28163a745959c03983064a.jpeg\n",
      "prediction/30c2f4fc276ed9f178dc2f4af6266509.jpeg\n",
      "prediction/314fe384eb2ba3adfda6c1899fdc9837.jpeg\n",
      "prediction/318ecf467d7ad048df39beb176363408.jpeg\n",
      "prediction/3425b976973f13dd311a65d2b46d0a60.jpeg\n",
      "prediction/343f27ebc5d92b9076135d76d0bbd4ce.jpeg\n",
      "prediction/3657e4314fe384eb2ba3adfda6c1899f.jpeg\n",
      "prediction/391adc0bb223c4eaf3372eae567c94ea.jpeg\n",
      "prediction/395e56a6d9ba9d45c3dbc695325ded46.jpeg\n",
      "prediction/39d6aad6bb0170a40ed32deef71fbe08.jpeg\n",
      "prediction/39dda50f954ba59c7de13a35276a4764.jpeg\n",
      "prediction/3b8318ecf467d7ad048df39beb176363.jpeg\n",
      "prediction/3bbc04a3afe1f119f21b248d152b672a.jpeg\n",
      "prediction/3c3ca4d5060a633a8d5b2b2b55157b77.jpeg\n",
      "prediction/3c692195f853af7f8a4df1ec859759b7.jpeg\n",
      "prediction/3c84417fda8019410b1fcf0625f608b4.jpeg\n",
      "prediction/3dd311a65d2b46d0a6085835c525af63.jpeg\n",
      "prediction/3f33c3ca4d5060a633a8d5b2b2b55157.jpeg\n",
      "prediction/41ed86e58224cb76a67d4dcf9596154e.jpeg\n",
      "prediction/425b976973f13dd311a65d2b46d0a608.jpeg\n",
      "prediction/4417fda8019410b1fcf0625f608b4ce9.jpeg\n",
      "prediction/45b21960c94b0aab4c024a573c692195.jpeg\n",
      "prediction/461c2a337948a41964c1d4f50a5f3601.jpeg\n",
      "prediction/4baddc22268d4b4ef4d95ceea1195799.jpeg\n",
      "prediction/4c1711b62f15ec83b97bb11e8e0c4416.jpeg\n",
      "prediction/4ca6160127cd1d5ff99c267599fc487b.jpeg\n",
      "prediction/4e2a6e51d077bad31c8c5f54ffaa27a6.jpeg\n",
      "prediction/4e8bfb905b78a91391adc0bb223c4eaf.jpeg\n",
      "prediction/4ef4d95ceea11957998906d3694abb47.jpeg\n",
      "prediction/4f437f0019f7e6af7d7147763bdfb928.jpeg\n",
      "prediction/4fda8daadc8dd23ae214d84b5dec33fd.jpeg\n",
      "prediction/5026b3550534bca540e24f489284b8e6.jpeg\n",
      "prediction/50534bca540e24f489284b8e6953ad88.jpeg\n",
      "prediction/54ba59c7de13a35276a476420655433a.jpeg\n",
      "prediction/559c7e610b1531871f2fd85a04faeeb2.jpeg\n",
      "prediction/5664c1711b62f15ec83b97bb11e8e0c4.jpeg\n",
      "prediction/5a51625559c7e610b1531871f2fd85a0.jpeg\n",
      "prediction/5b21960c94b0aab4c024a573c692195f.jpeg\n",
      "prediction/5beb48f0be11d0309d1dff09b8405734.jpeg\n",
      "prediction/5c1346e62522325c1b9c4fc9cbe1eca1.jpeg\n",
      "prediction/5e8f14e1e0ae936de314f2d95e6c487f.jpeg\n",
      "prediction/60a633a8d5b2b2b55157b7781e2c706c.jpeg\n",
      "prediction/60b246359c68c836f843dcf41f4dce3c.jpeg\n",
      "prediction/6231002ec4a1fe748f3085f1ce88cbdf.jpeg\n",
      "prediction/6240619ebebe9e9c9d00a4262b4fe4a5.jpeg\n",
      "prediction/625559c7e610b1531871f2fd85a04fae.jpeg\n",
      "prediction/626650908b1cb932a767bf5487ced51b.jpeg\n",
      "prediction/633a8d5b2b2b55157b7781e2c706c75c.jpeg\n",
      "prediction/63b8318ecf467d7ad048df39beb17636.jpeg\n",
      "prediction/6679bff55177a34fc01019eec999fd84.jpeg\n",
      "prediction/66e057db382b8564872a27301a654864.jpeg\n",
      "prediction/677a6b1f2c6d40b3bbba8f6c704801b3.jpeg\n",
      "prediction/67d4dcf9596154efb7cef748d9cbd617.jpeg\n",
      "prediction/68d4b4ef4d95ceea11957998906d3694.jpeg\n",
      "prediction/692195f853af7f8a4df1ec859759b7c8.jpeg\n",
      "prediction/6ad1468996b4a9ce6d840b53a6558038.jpeg\n",
      "prediction/6b83ef461c2a337948a41964c1d4f50a.jpeg\n",
      "prediction/6d3694abb47953b0e4909384b57bb6a0.jpeg\n",
      "prediction/6ddca6ee1af35b65bd9ea42cfcfedb5e.jpeg\n",
      "prediction/6f4d4987ea3b4bae5672a230194c5a08.jpeg\n",
      "prediction/6f67b5df7cdf3f33c3ca4d5060a633a8.jpeg\n",
      "prediction/710d568df17586ad8f3297c819c90895.jpeg\n",
      "prediction/71f2fd85a04faeeb2b535797395305af.jpeg\n",
      "prediction/72d9e593b6be1ac29adbe86f03d900fd.jpeg\n",
      "prediction/7330398846f67b5df7cdf3f33c3ca4d5.jpeg\n",
      "prediction/77e004e8bfb905b78a91391adc0bb223.jpeg\n",
      "prediction/780fd497e1c0e9082ea2c193ac8d551c.jpeg\n",
      "prediction/782707d7c359e27888daefee82519763.jpeg\n",
      "prediction/7936140a2d5fc1443c4e445927738677.jpeg\n",
      "prediction/7ad1cf2eb9d32a3dc907950289e976c7.jpeg\n",
      "prediction/7af2ed9fbb63b28163a745959c039830.jpeg\n",
      "prediction/7b5df7cdf3f33c3ca4d5060a633a8d5b.jpeg\n",
      "prediction/7cb2eb1ef57af2ed9fbb63b28163a745.jpeg\n",
      "prediction/7cdf3f33c3ca4d5060a633a8d5b2b2b5.jpeg\n",
      "prediction/7f0019f7e6af7d7147763bdfb928d788.jpeg\n",
      "prediction/7f32574d6c748c41743c6c08a1d1ad8f.jpeg\n",
      "prediction/7fda8019410b1fcf0625f608b4ce9762.jpeg\n",
      "prediction/80c643782707d7c359e27888daefee82.jpeg\n",
      "prediction/80cae6daedd989517cb8041ed86e5822.jpeg\n",
      "prediction/82ea2c193ac8d551c149b60f2965341c.jpeg\n",
      "prediction/8395e56a6d9ba9d45c3dbc695325ded4.jpeg\n",
      "prediction/85a04faeeb2b535797395305af926a6f.jpeg\n",
      "prediction/87133b51209db6dcdda5cc8a788edaeb.jpeg\n",
      "prediction/88e16d4ca6160127cd1d5ff99c267599.jpeg\n",
      "prediction/8954bb13d3727c7e5e1069646f2f0bb8.jpeg\n",
      "prediction/8b8ec74baddc22268d4b4ef4d95ceea1.jpeg\n",
      "prediction/8cbdf366e057db382b8564872a27301a.jpeg\n",
      "prediction/8eb5a9a8a8d7fcc9df8e5ad89d284483.jpeg\n",
      "prediction/8fa8625605da2023387fd56c04414eaa.jpeg\n",
      "prediction/936de314f2d95e6c487ffa651b477422.jpeg\n",
      "prediction/94a7f32574d6c748c41743c6c08a1d1a.jpeg\n",
      "prediction/9632a3c6f7f7fb2a643f15bd0249ddcc.jpeg\n",
      "prediction/97e1c0e9082ea2c193ac8d551c149b60.jpeg\n",
      "prediction/98da48d679d7c7c8d3d96fb2b87fbbcf.jpeg\n",
      "prediction/998906d3694abb47953b0e4909384b57.jpeg\n",
      "prediction/9c7976c1182df0de51d32128c358d1fd.jpeg\n",
      "prediction/9fc7330398846f67b5df7cdf3f33c3ca.jpeg\n",
      "prediction/a15fc656702fa602bb3c7abacdbd7e6a.jpeg\n",
      "prediction/a3657e4314fe384eb2ba3adfda6c1899.jpeg\n",
      "prediction/a48847ae8395e56a6d9ba9d45c3dbc69.jpeg\n",
      "prediction/a51625559c7e610b1531871f2fd85a04.jpeg\n",
      "prediction/a6a4248a41e8db8b4ed633b456aaafac.jpeg\n",
      "prediction/a6d9ba9d45c3dbc695325ded465efde9.jpeg\n",
      "prediction/a6e51d077bad31c8c5f54ffaa27a6235.jpeg\n",
      "prediction/a9d45c3dbc695325ded465efde988dfb.jpeg\n",
      "prediction/aafac813fe3ccba3e032dd2948a80c64.jpeg\n",
      "prediction/ad43fe2cd066b9fdbc3bbc04a3afe1f1.jpeg\n",
      "prediction/aeeb2b535797395305af926a6f23c5d6.jpeg\n",
      "prediction/af35b65bd9ea42cfcfedb5eb2a0e4b50.jpeg\n",
      "prediction/afe1f119f21b248d152b672ab3492fc6.jpeg\n",
      "prediction/b21960c94b0aab4c024a573c692195f8.jpeg\n",
      "prediction/b70dd094a7f32574d6c748c41743c6c0.jpeg\n",
      "prediction/be4d18d5401f659532897255ce2dd4ae.jpeg\n",
      "prediction/be86f03d900fd197cd955fa095f97845.jpeg\n",
      "prediction/bec33b5e3d68f9d4c331587f9b9d49e2.jpeg\n",
      "prediction/c193ac8d551c149b60f2965341caf528.jpeg\n",
      "prediction/c22268d4b4ef4d95ceea11957998906d.jpeg\n",
      "prediction/c41545ba55aadaa77712a48e11d579d9.jpeg\n",
      "prediction/c4be73749a0d21db70dd094a7f32574d.jpeg\n",
      "prediction/c5a0808bee60b246359c68c836f843dc.jpeg\n",
      "prediction/c656702fa602bb3c7abacdbd7e6afd56.jpeg\n",
      "prediction/c695325ded465efde988dfb96d081533.jpeg\n",
      "prediction/c7e610b1531871f2fd85a04faeeb2b53.jpeg\n",
      "prediction/ca4d5060a633a8d5b2b2b55157b7781e.jpeg\n",
      "prediction/cb1b387133b51209db6dcdda5cc8a788.jpeg\n",
      "prediction/cb2eb1ef57af2ed9fbb63b28163a7459.jpeg\n",
      "prediction/cbb2a365b5574868eb60861ee1ff0b8a.jpeg\n",
      "prediction/cc5cfd263f1f90be28799235026b3550.jpeg\n",
      "prediction/cdf3f33c3ca4d5060a633a8d5b2b2b55.jpeg\n",
      "prediction/cf464aa36bf7c09a3bb0e5ca159410b9.jpeg\n",
      "prediction/cf6644589e532a9ee954f81faedbce39.jpeg\n",
      "prediction/d077bad31c8c5f54ffaa27a623511c38.jpeg\n",
      "prediction/d3694abb47953b0e4909384b57bb6a05.jpeg\n",
      "prediction/d5060a633a8d5b2b2b55157b7781e2c7.jpeg\n",
      "prediction/d6240619ebebe9e9c9d00a4262b4fe4a.jpeg\n",
      "prediction/d694539ef2424a9218697283baa3657e.jpeg\n",
      "prediction/d6bf62f215f0da4ad3a7ab8df9da7386.jpeg\n",
      "prediction/db5eb2a0e4b50889d874c68c030b9afe.jpeg\n",
      "prediction/dc0bb223c4eaf3372eae567c94ea04c6.jpeg\n",
      "prediction/dc70626ab4ec3d46e602b296cc5cfd26.jpeg\n",
      "prediction/dd094a7f32574d6c748c41743c6c08a1.jpeg\n",
      "prediction/dd78294679c9cbb2a365b5574868eb60.jpeg\n",
      "prediction/df366e057db382b8564872a27301a654.jpeg\n",
      "prediction/df8e26031fbb5e52c41545ba55aadaa7.jpeg\n",
      "prediction/e1797c77826f9a7021bab9fc73303988.jpeg\n",
      "prediction/e19769fa2d37d32780fd497e1c0e9082.jpeg\n",
      "prediction/e1e0ae936de314f2d95e6c487ffa651b.jpeg\n",
      "prediction/e2cd066b9fdbc3bbc04a3afe1f119f21.jpeg\n",
      "prediction/e3c84417fda8019410b1fcf0625f608b.jpeg\n",
      "prediction/e4a17af18f72c8e6166a915669c99390.jpeg\n",
      "prediction/e56a6d9ba9d45c3dbc695325ded465ef.jpeg\n",
      "prediction/e5e8f14e1e0ae936de314f2d95e6c487.jpeg\n",
      "prediction/e73749a0d21db70dd094a7f32574d6c7.jpeg\n",
      "prediction/e7998934d417cb2eb1ef57af2ed9fbb6.jpeg\n",
      "prediction/e8bfb905b78a91391adc0bb223c4eaf3.jpeg\n",
      "prediction/e9082ea2c193ac8d551c149b60f29653.jpeg\n",
      "prediction/ea42b4eebc9e5a87e443434ac60af150.jpeg\n",
      "prediction/eb1ef57af2ed9fbb63b28163a745959c.jpeg\n",
      "prediction/eecd70ebce6347c491b37c8c2e5a64a8.jpeg\n",
      "prediction/eff05dec1eb3a70b145a7d8d3b6c0ed7.jpeg\n",
      "prediction/f13dd311a65d2b46d0a6085835c525af.jpeg\n",
      "prediction/f14e1e0ae936de314f2d95e6c487ffa6.jpeg\n",
      "prediction/f62f215f0da4ad3a7ab8df9da7386835.jpeg\n",
      "prediction/f7fdb2d45b21960c94b0aab4c024a573.jpeg\n",
      "prediction/f8e26031fbb5e52c41545ba55aadaa77.jpeg\n",
      "prediction/f8e5ad89d2844837f2a0f1536ad3f6a5.jpeg\n",
      "prediction/faef7fdb2d45b21960c94b0aab4c024a.jpeg\n",
      "prediction/fb905b78a91391adc0bb223c4eaf3372.jpeg\n",
      "prediction/fcd6da15fc656702fa602bb3c7abacdb.jpeg\n",
      "prediction/fdbc3bbc04a3afe1f119f21b248d152b.jpeg\n",
      "prediction/fe1f119f21b248d152b672ab3492fc62.jpeg\n",
      "prediction/ff05dec1eb3a70b145a7d8d3b6c0ed75.jpeg\n",
      "prediction/ff55177a34fc01019eec999fd84e679b.jpeg\n"
     ]
    }
   ],
   "source": [
    "def rle_to_string(runs):\n",
    "    return ' '.join(str(x) for x in runs)\n",
    "\n",
    "def rle_encode_one_mask(mask):\n",
    "    pixels = mask.flatten()\n",
    "    pixels[pixels > 225] = 255\n",
    "    pixels[pixels <= 225] = 0\n",
    "    use_padding = False\n",
    "    if pixels[0] or pixels[-1]:\n",
    "        use_padding = True\n",
    "        pixel_padded = np.zeros([len(pixels) + 2], dtype=pixels.dtype)\n",
    "        pixel_padded[1:-1] = pixels\n",
    "        pixels = pixel_padded\n",
    "    rle = np.where(pixels[1:] != pixels[:-1])[0] + 2\n",
    "    if use_padding:\n",
    "        rle = rle - 1\n",
    "    rle[1::2] = rle[1::2] - rle[:-1:2]\n",
    "    \n",
    "    return rle_to_string(rle)\n",
    "\n",
    "def rle2mask(mask_rle, shape=(3,3)):\n",
    "    s = mask_rle.split()\n",
    "    starts, lengths = [np.asarray(x, dtype=int) for x in (s[0:][::2], s[1:][::2])]\n",
    "    starts -= 1\n",
    "    ends = starts + lengths\n",
    "    img = np.zeros(shape[0]*shape[1], dtype=np.uint8)\n",
    "    for lo, hi in zip(starts, ends):\n",
    "        img[lo:hi] = 1\n",
    "    return img.reshape(shape).T\n",
    "\n",
    "def mask2string(dir):\n",
    "    strings = []\n",
    "    ids = []\n",
    "    ws, hs = [[] for i in range(2)]\n",
    "    for image_id in os.listdir(dir):\n",
    "        id = image_id.split('.')[0]\n",
    "        path = os.path.join(dir, image_id)\n",
    "        print(path)\n",
    "        img = cv2.imread(path)[:,:,::-1]\n",
    "        h, w = img.shape[0], img.shape[1]\n",
    "        for channel in range(2):\n",
    "            ws.append(w)\n",
    "            hs.append(h)\n",
    "            ids.append(f'{id}_{channel}')\n",
    "            string = rle_encode_one_mask(img[:,:,channel])\n",
    "            strings.append(string)\n",
    "    r = {\n",
    "        'ids': ids,\n",
    "        'strings': strings,\n",
    "    }\n",
    "    return r\n",
    "\n",
    "\n",
    "MASK_DIR_PATH = 'prediction/'\n",
    "dir = MASK_DIR_PATH\n",
    "res = mask2string(dir)\n",
    "df = pd.DataFrame(columns=['Id', 'Expected'])\n",
    "df['Id'] = res['ids']\n",
    "df['Expected'] = res['strings']\n",
    "\n",
    "df.to_csv(r'output.csv', index=False)"
   ]
  }
 ],
 "metadata": {
  "kaggle": {
   "accelerator": "nvidiaTeslaT4",
   "dataSources": [
    {
     "databundleVersionId": 2715462,
     "sourceId": 30892,
     "sourceType": "competition"
    },
    {
     "datasetId": 4002781,
     "sourceId": 6983304,
     "sourceType": "datasetVersion"
    }
   ],
   "isGpuEnabled": true,
   "isInternetEnabled": true,
   "language": "python",
   "sourceType": "notebook"
  },
  "kernelspec": {
   "display_name": "Python 3",
   "language": "python",
   "name": "python3"
  },
  "language_info": {
   "codemirror_mode": {
    "name": "ipython",
    "version": 3
   },
   "file_extension": ".py",
   "mimetype": "text/x-python",
   "name": "python",
   "nbconvert_exporter": "python",
   "pygments_lexer": "ipython3",
   "version": "3.12.2"
  },
  "papermill": {
   "default_parameters": {},
   "duration": 1556.839588,
   "end_time": "2024-11-21T15:13:29.701987",
   "environment_variables": {},
   "exception": true,
   "input_path": "__notebook__.ipynb",
   "output_path": "__notebook__.ipynb",
   "parameters": {},
   "start_time": "2024-11-21T14:47:32.862399",
   "version": "2.6.0"
  }
 },
 "nbformat": 4,
 "nbformat_minor": 5
}
